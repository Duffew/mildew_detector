{
 "cells": [
  {
   "cell_type": "markdown",
   "id": "39095f92",
   "metadata": {},
   "source": [
    "# **Data Collection**"
   ]
  },
  {
   "cell_type": "markdown",
   "id": "eabdd41a",
   "metadata": {},
   "source": [
    "## Objectives\n",
    "\n",
    "- Download data from Kaggle and prepare it for processing\n",
    "\n",
    "## Inputs\n",
    "\n",
    "- kaggle.json - authntication token\n",
    "- dataset - images\n",
    "\n",
    "## Outputs\n",
    "\n",
    "- Generated dataset: inputs/datasets/mildew_dataset\n",
    "- Split dataset - train, test, validation"
   ]
  },
  {
   "cell_type": "markdown",
   "id": "ec9b545d",
   "metadata": {},
   "source": [
    "## Change working directory"
   ]
  },
  {
   "cell_type": "markdown",
   "id": "ee078de5",
   "metadata": {},
   "source": [
    "We need to change the working directory from its current folder to its parent folder. To do this we:\n",
    "\n",
    "* We access the current directory with os.getcwd()"
   ]
  },
  {
   "cell_type": "code",
   "execution_count": 12,
   "id": "750a5553",
   "metadata": {},
   "outputs": [
    {
     "data": {
      "text/plain": [
       "'c:\\\\Users\\\\nickd\\\\OneDrive\\\\Desktop\\\\Projects\\\\mildew_detector'"
      ]
     },
     "execution_count": 12,
     "metadata": {},
     "output_type": "execute_result"
    }
   ],
   "source": [
    "import os\n",
    "current_dir = os.getcwd()\n",
    "current_dir"
   ]
  },
  {
   "cell_type": "markdown",
   "id": "b31994a0",
   "metadata": {},
   "source": [
    "We want to make the parent of the current directory the new current directory\n",
    "* os.path.dirname() gets the parent directory\n",
    "* os.chir() defines the new current directory"
   ]
  },
  {
   "cell_type": "code",
   "execution_count": 13,
   "id": "349a9320",
   "metadata": {},
   "outputs": [
    {
     "name": "stdout",
     "output_type": "stream",
     "text": [
      "You set a new current directory\n"
     ]
    }
   ],
   "source": [
    "os.chdir(os.path.dirname(current_dir))\n",
    "print(\"You set a new current directory\")"
   ]
  },
  {
   "cell_type": "markdown",
   "id": "b0c796bd",
   "metadata": {},
   "source": [
    "Confirm the new current directory."
   ]
  },
  {
   "cell_type": "code",
   "execution_count": 14,
   "id": "5891f58b",
   "metadata": {},
   "outputs": [
    {
     "data": {
      "text/plain": [
       "'c:\\\\Users\\\\nickd\\\\OneDrive\\\\Desktop\\\\Projects'"
      ]
     },
     "execution_count": 14,
     "metadata": {},
     "output_type": "execute_result"
    }
   ],
   "source": [
    "current_dir = os.getcwd()\n",
    "current_dir"
   ]
  },
  {
   "cell_type": "markdown",
   "id": "73d6abe4",
   "metadata": {},
   "source": [
    "## Import Packages"
   ]
  },
  {
   "cell_type": "code",
   "execution_count": null,
   "id": "029e03cc",
   "metadata": {},
   "outputs": [],
   "source": [
    "%pip install -r requirements.txt"
   ]
  },
  {
   "cell_type": "markdown",
   "id": "b6089e89",
   "metadata": {},
   "source": [
    "## Install Kaggle\n",
    "\n",
    "Install kaggle to help with downloading image data form kaggle.com."
   ]
  },
  {
   "cell_type": "code",
   "execution_count": null,
   "id": "e48c01e3",
   "metadata": {},
   "outputs": [],
   "source": [
    "# install kaggle package\n",
    "%pip install kaggle==1.5.12"
   ]
  },
  {
   "cell_type": "markdown",
   "id": "1299105c",
   "metadata": {},
   "source": [
    "Change the Kaggle configuration directory to the current working directory and set permissions for the Kaggle authentication JSON.\n",
    "\n",
    "Check that kaggle.json appears in the root directory"
   ]
  },
  {
   "cell_type": "code",
   "execution_count": null,
   "id": "11fd9627",
   "metadata": {},
   "outputs": [],
   "source": [
    "import os\n",
    "print(os.listdir())  # Should list `kaggle.json`"
   ]
  },
  {
   "cell_type": "markdown",
   "id": "e6398466",
   "metadata": {},
   "source": [
    "Set Kaggle configuration directory"
   ]
  },
  {
   "cell_type": "code",
   "execution_count": null,
   "id": "ae1f452a",
   "metadata": {},
   "outputs": [],
   "source": [
    "import os\n",
    "os.environ['KAGGLE_CONFIG_DIR'] = os.getcwd()\n",
    "print(f\"Kaggle config directory set to: {os.environ['KAGGLE_CONFIG_DIR']}\")"
   ]
  },
  {
   "cell_type": "markdown",
   "id": "7b74b17e",
   "metadata": {},
   "source": [
    "Get the dataset path and set the destination folder"
   ]
  },
  {
   "cell_type": "code",
   "execution_count": null,
   "id": "fc536291",
   "metadata": {},
   "outputs": [],
   "source": [
    "KaggleDatasetPath = \"codeinstitute/cherry-leaves\"\n",
    "DestinationFolder = \"inputs/cherry-leaves\"   \n",
    "! kaggle datasets download -d {KaggleDatasetPath} -p {DestinationFolder}"
   ]
  }
 ],
 "metadata": {
  "kernelspec": {
   "display_name": ".venv",
   "language": "python",
   "name": "python3"
  },
  "language_info": {
   "codemirror_mode": {
    "name": "ipython",
    "version": 3
   },
   "file_extension": ".py",
   "mimetype": "text/x-python",
   "name": "python",
   "nbconvert_exporter": "python",
   "pygments_lexer": "ipython3",
   "version": "3.12.5"
  }
 },
 "nbformat": 4,
 "nbformat_minor": 5
}
