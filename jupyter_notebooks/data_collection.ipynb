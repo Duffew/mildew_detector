{
 "cells": [
  {
   "cell_type": "markdown",
   "id": "39095f92",
   "metadata": {},
   "source": [
    "# **Data Collection**"
   ]
  },
  {
   "cell_type": "markdown",
   "id": "eabdd41a",
   "metadata": {},
   "source": [
    "## Objectives\n",
    "\n",
    "- Download data from Kaggle and prepare it for processing\n",
    "\n",
    "## Inputs\n",
    "\n",
    "- kaggle.json - authntication token\n",
    "- dataset - images\n",
    "\n",
    "## Outputs\n",
    "\n",
    "- Generated dataset: inputs/datasets/mildew_dataset\n",
    "- Split dataset - train, test, validation"
   ]
  },
  {
   "cell_type": "markdown",
   "id": "ec9b545d",
   "metadata": {},
   "source": [
    "## Change working directory"
   ]
  },
  {
   "cell_type": "markdown",
   "id": "ee078de5",
   "metadata": {},
   "source": [
    "By default, the working directory is \"jupyter_notebooks\", where the notebook is running. However, we need to change the working directory to its parent folder so that file references align with the broader project structure.\n",
    "\n",
    "To do this, we first check the current working directory — note that the output below only displays the last two folders in the file path, rather than the full system path. This is done intentionally to prevent exposing the full local file path stored on my machine.\n",
    "\n",
    "**Any time you revisit this notebook after logging out, or open a different notebook for the first time, you must repeat these steps to ensure the working directory is always correctly set.**"
   ]
  },
  {
   "cell_type": "code",
   "execution_count": 1,
   "id": "750a5553",
   "metadata": {},
   "outputs": [
    {
     "name": "stdout",
     "output_type": "stream",
     "text": [
      "📂 mildew_detector\\jupyter_notebooks\n"
     ]
    }
   ],
   "source": [
    "import os\n",
    "from pathlib import Path # ensure file path consistency\n",
    "\n",
    "# Get the current working directory\n",
    "current_dir = Path.cwd()\n",
    "\n",
    "# Extract the last two directory names\n",
    "filtered_path = Path(*current_dir.parts[-2:])\n",
    "\n",
    "# Print with a folder emoji 🗂️\n",
    "print(f\"📂 {filtered_path}\")  # Example output: 📂 mildew_detector/jupyter_notebooks"
   ]
  },
  {
   "cell_type": "markdown",
   "id": "b31994a0",
   "metadata": {},
   "source": [
    "Now we change the working directory from \"jupyter_notebooks\" to the parent directory."
   ]
  },
  {
   "cell_type": "code",
   "execution_count": 2,
   "id": "349a9320",
   "metadata": {},
   "outputs": [
    {
     "name": "stdout",
     "output_type": "stream",
     "text": [
      "✅ You set a new current directory\n"
     ]
    }
   ],
   "source": [
    "# Change the working directory to its parent folder\n",
    "os.chdir(os.path.dirname(os.getcwd()))\n",
    "\n",
    "# ✅ Confirmation message\n",
    "print(\"✅ You set a new current directory\")"
   ]
  },
  {
   "cell_type": "markdown",
   "id": "b0c796bd",
   "metadata": {},
   "source": [
    "Confirm the new current directory."
   ]
  },
  {
   "cell_type": "code",
   "execution_count": 3,
   "id": "5891f58b",
   "metadata": {},
   "outputs": [
    {
     "name": "stdout",
     "output_type": "stream",
     "text": [
      "📂 Projects\\mildew_detector\n"
     ]
    }
   ],
   "source": [
    "# Get the current working directory\n",
    "current_dir = Path.cwd()\n",
    "\n",
    "# Extract the last two directory names\n",
    "filtered_path = Path(*current_dir.parts[-2:])\n",
    "\n",
    "# Print with a folder emoji 🗂️\n",
    "print(f\"📂 {filtered_path}\")  # Example output: 📂 mildew_detector/jupyter_notebooks"
   ]
  },
  {
   "cell_type": "markdown",
   "id": "73d6abe4",
   "metadata": {},
   "source": [
    "## Import Packages"
   ]
  },
  {
   "cell_type": "code",
   "execution_count": 4,
   "id": "029e03cc",
   "metadata": {},
   "outputs": [
    {
     "name": "stdout",
     "output_type": "stream",
     "text": [
      "Note: you may need to restart the kernel to use updated packages.\n"
     ]
    },
    {
     "name": "stderr",
     "output_type": "stream",
     "text": [
      "ERROR: Could not open requirements file: [Errno 2] No such file or directory: 'requirements.txt-'\n"
     ]
    }
   ],
   "source": [
    "%pip install -r requirements.txt- fix this at the end with a new requirememts file curated from actual use"
   ]
  },
  {
   "cell_type": "markdown",
   "id": "b6089e89",
   "metadata": {},
   "source": [
    "## Install Kaggle\n",
    "\n",
    "Now we need to think about gathering our data. We will be downloading our images from kaggle.com so we first install kaggle to help with the download.\n",
    "\n",
    "For this you need to have your Kaggle Token handy."
   ]
  },
  {
   "cell_type": "code",
   "execution_count": 5,
   "id": "e48c01e3",
   "metadata": {},
   "outputs": [
    {
     "name": "stdout",
     "output_type": "stream",
     "text": [
      "Requirement already satisfied: kaggle==1.5.12 in c:\\users\\nickd\\onedrive\\desktop\\projects\\mildew_detector\\.venv\\lib\\site-packages (1.5.12)\n",
      "Requirement already satisfied: six>=1.10 in c:\\users\\nickd\\onedrive\\desktop\\projects\\mildew_detector\\.venv\\lib\\site-packages (from kaggle==1.5.12) (1.17.0)\n",
      "Requirement already satisfied: certifi in c:\\users\\nickd\\onedrive\\desktop\\projects\\mildew_detector\\.venv\\lib\\site-packages (from kaggle==1.5.12) (2025.4.26)\n",
      "Requirement already satisfied: python-dateutil in c:\\users\\nickd\\onedrive\\desktop\\projects\\mildew_detector\\.venv\\lib\\site-packages (from kaggle==1.5.12) (2.9.0.post0)\n",
      "Requirement already satisfied: requests in c:\\users\\nickd\\onedrive\\desktop\\projects\\mildew_detector\\.venv\\lib\\site-packages (from kaggle==1.5.12) (2.32.3)\n",
      "Requirement already satisfied: tqdm in c:\\users\\nickd\\onedrive\\desktop\\projects\\mildew_detector\\.venv\\lib\\site-packages (from kaggle==1.5.12) (4.67.1)\n",
      "Requirement already satisfied: python-slugify in c:\\users\\nickd\\onedrive\\desktop\\projects\\mildew_detector\\.venv\\lib\\site-packages (from kaggle==1.5.12) (8.0.4)\n",
      "Requirement already satisfied: urllib3 in c:\\users\\nickd\\onedrive\\desktop\\projects\\mildew_detector\\.venv\\lib\\site-packages (from kaggle==1.5.12) (2.4.0)\n",
      "Requirement already satisfied: text-unidecode>=1.3 in c:\\users\\nickd\\onedrive\\desktop\\projects\\mildew_detector\\.venv\\lib\\site-packages (from python-slugify->kaggle==1.5.12) (1.3)\n",
      "Requirement already satisfied: charset-normalizer<4,>=2 in c:\\users\\nickd\\onedrive\\desktop\\projects\\mildew_detector\\.venv\\lib\\site-packages (from requests->kaggle==1.5.12) (3.4.2)\n",
      "Requirement already satisfied: idna<4,>=2.5 in c:\\users\\nickd\\onedrive\\desktop\\projects\\mildew_detector\\.venv\\lib\\site-packages (from requests->kaggle==1.5.12) (3.10)\n",
      "Requirement already satisfied: colorama in c:\\users\\nickd\\onedrive\\desktop\\projects\\mildew_detector\\.venv\\lib\\site-packages (from tqdm->kaggle==1.5.12) (0.4.6)\n",
      "Note: you may need to restart the kernel to use updated packages.\n"
     ]
    }
   ],
   "source": [
    "# install kaggle package\n",
    "%pip install kaggle==1.5.12"
   ]
  },
  {
   "cell_type": "markdown",
   "id": "1299105c",
   "metadata": {},
   "source": [
    "Drag and drop your kaggle.json file (Kaggle Token) into the same directory as README.md.\n",
    "\n",
    "The code below will check that kaggle.json appears in the directory by listing its contents. You should see a list of entries in this directory, including kaggle.json."
   ]
  },
  {
   "cell_type": "code",
   "execution_count": 6,
   "id": "11fd9627",
   "metadata": {},
   "outputs": [
    {
     "name": "stdout",
     "output_type": "stream",
     "text": [
      "['.git', '.gitignore', '.python-version', '.venv', 'jupyter_notebooks', 'kaggle.json', 'README.md', 'requirements.txt', 'test.py']\n"
     ]
    }
   ],
   "source": [
    "print(os.listdir())  # Should list `kaggle.json`"
   ]
  },
  {
   "cell_type": "markdown",
   "id": "7b74b17e",
   "metadata": {},
   "source": [
    "Now we get the path for the dataset and set the destination folder where the downloaded images will be stored.\n",
    "\n",
    "This code will download a zip folder, then create new folders (\"inputs\" and \"cherry-leaves\") for storing the images."
   ]
  },
  {
   "cell_type": "code",
   "execution_count": 7,
   "id": "fc536291",
   "metadata": {},
   "outputs": [
    {
     "name": "stdout",
     "output_type": "stream",
     "text": [
      "Downloading cherry-leaves.zip to inputs\\cherry-leaves\n",
      "\n"
     ]
    },
    {
     "name": "stderr",
     "output_type": "stream",
     "text": [
      "\n",
      "  0%|          | 0.00/55.0M [00:00<?, ?B/s]\n",
      "  2%|▏         | 1.00M/55.0M [00:00<00:21, 2.66MB/s]\n",
      "  5%|▌         | 3.00M/55.0M [00:00<00:08, 6.33MB/s]\n",
      "  9%|▉         | 5.00M/55.0M [00:00<00:05, 8.94MB/s]\n",
      " 13%|█▎        | 7.00M/55.0M [00:00<00:04, 10.7MB/s]\n",
      " 16%|█▋        | 9.00M/55.0M [00:00<00:03, 12.2MB/s]\n",
      " 20%|█▉        | 11.0M/55.0M [00:01<00:03, 13.0MB/s]\n",
      " 24%|██▎       | 13.0M/55.0M [00:01<00:03, 13.7MB/s]\n",
      " 27%|██▋       | 15.0M/55.0M [00:01<00:02, 14.7MB/s]\n",
      " 31%|███       | 17.0M/55.0M [00:01<00:02, 15.0MB/s]\n",
      " 35%|███▍      | 19.0M/55.0M [00:01<00:02, 15.7MB/s]\n",
      " 38%|███▊      | 21.0M/55.0M [00:01<00:02, 15.6MB/s]\n",
      " 42%|████▏     | 23.0M/55.0M [00:01<00:02, 16.5MB/s]\n",
      " 45%|████▌     | 25.0M/55.0M [00:02<00:01, 16.0MB/s]\n",
      " 49%|████▉     | 27.0M/55.0M [00:02<00:01, 16.4MB/s]\n",
      " 53%|█████▎    | 29.0M/55.0M [00:02<00:01, 16.5MB/s]\n",
      " 56%|█████▋    | 31.0M/55.0M [00:02<00:01, 16.0MB/s]\n",
      " 60%|█████▉    | 33.0M/55.0M [00:02<00:01, 15.5MB/s]\n",
      " 64%|██████▎   | 35.0M/55.0M [00:02<00:01, 16.3MB/s]\n",
      " 67%|██████▋   | 37.0M/55.0M [00:02<00:01, 16.6MB/s]\n",
      " 71%|███████   | 39.0M/55.0M [00:02<00:01, 15.6MB/s]\n",
      " 75%|███████▍  | 41.0M/55.0M [00:03<00:00, 15.8MB/s]\n",
      " 78%|███████▊  | 43.0M/55.0M [00:03<00:00, 16.0MB/s]\n",
      " 82%|████████▏ | 45.0M/55.0M [00:03<00:00, 15.5MB/s]\n",
      " 85%|████████▌ | 47.0M/55.0M [00:03<00:00, 16.7MB/s]\n",
      " 89%|████████▉ | 49.0M/55.0M [00:03<00:00, 17.0MB/s]\n",
      " 93%|█████████▎| 51.0M/55.0M [00:03<00:00, 16.2MB/s]\n",
      " 96%|█████████▋| 53.0M/55.0M [00:03<00:00, 16.6MB/s]\n",
      "100%|█████████▉| 55.0M/55.0M [00:03<00:00, 16.8MB/s]\n",
      "100%|██████████| 55.0M/55.0M [00:03<00:00, 14.6MB/s]\n"
     ]
    }
   ],
   "source": [
    "# Define Kaggle dataset and destination folder using pathlib\n",
    "KaggleDatasetPath = \"codeinstitute/cherry-leaves\"\n",
    "DestinationFolder = Path(\"inputs\") / \"cherry-leaves\"  # Ensures correct path handling across OS\n",
    "\n",
    "# Download the Kaggle dataset into the specified folder\n",
    "! kaggle datasets download -d {KaggleDatasetPath} -p {DestinationFolder}"
   ]
  },
  {
   "cell_type": "markdown",
   "id": "8ebdb5aa",
   "metadata": {},
   "source": [
    "Now we need to unzip the downloaded file and get hold of the images. \n",
    "\n",
    "The cell below with unzip the file and store the images inside a new directory within the \"inputs\" folder.\n",
    "\n",
    "The code will also delete the zip file and your Kaggle Token for data protection purposes."
   ]
  },
  {
   "cell_type": "code",
   "execution_count": null,
   "id": "589138a1",
   "metadata": {},
   "outputs": [
    {
     "name": "stdout",
     "output_type": "stream",
     "text": [
      "📂 Extracted files into: inputs\\cherry-leaves\n",
      "🗑️ Deleted: inputs\\cherry-leaves\\cherry-leaves.zip\n",
      "🛡️ Kaggle Token removed: kaggle.json\n"
     ]
    }
   ],
   "source": [
    "import zipfile\n",
    "from pathlib import Path\n",
    "\n",
    "# Define paths\n",
    "zip_file = Path(\"inputs\") / \"cherry-leaves\" / \"cherry-leaves.zip\"\n",
    "extract_folder = Path(\"inputs\") / \"cherry-leaves\"\n",
    "kaggle_token = Path(\"kaggle.json\")\n",
    "\n",
    "# Unzip the file\n",
    "with zipfile.ZipFile(zip_file, \"r\") as zip_ref:\n",
    "    zip_ref.extractall(extract_folder)\n",
    "\n",
    "print(f\"📂 Extracted files into: {extract_folder}\")\n",
    "\n",
    "# Delete the zip file after extraction\n",
    "zip_file.unlink()\n",
    "print(f\"🗑️ Deleted: {zip_file}\")\n",
    "\n",
    "# Remove Kaggle token for security\n",
    "if kaggle_token.exists():\n",
    "    kaggle_token.unlink()\n",
    "    print(f\"🛡️ Kaggle Token removed: {kaggle_token}\")"
   ]
  }
 ],
 "metadata": {
  "kernelspec": {
   "display_name": ".venv",
   "language": "python",
   "name": "python3"
  },
  "language_info": {
   "codemirror_mode": {
    "name": "ipython",
    "version": 3
   },
   "file_extension": ".py",
   "mimetype": "text/x-python",
   "name": "python",
   "nbconvert_exporter": "python",
   "pygments_lexer": "ipython3",
   "version": "3.12.5"
  }
 },
 "nbformat": 4,
 "nbformat_minor": 5
}
