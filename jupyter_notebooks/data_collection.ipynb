{
 "cells": [
  {
   "cell_type": "markdown",
   "id": "39095f92",
   "metadata": {},
   "source": [
    "# **Data Collection**"
   ]
  },
  {
   "cell_type": "markdown",
   "id": "eabdd41a",
   "metadata": {},
   "source": [
    "## Objectives\n",
    "\n",
    "- Download data from Kaggle and prepare it for processing\n",
    "\n",
    "## Inputs\n",
    "\n",
    "- kaggle.json - authentication token\n",
    "- dataset - images\n",
    "\n",
    "## Outputs\n",
    "\n",
    "- Generated dataset: inputs/datasets/mildew_dataset\n",
    "- Split dataset - train, test, validation\n",
    "\n",
    "-------------"
   ]
  },
  {
   "cell_type": "markdown",
   "id": "a3f3450d",
   "metadata": {},
   "source": [
    "## Kaggle Token\n",
    "\n",
    "**Drag and drop your kaggle.json file (Kaggle Token) into the same directory as README.md.**\n",
    "\n",
    "-----------------\n"
   ]
  },
  {
   "cell_type": "markdown",
   "id": "ec9b545d",
   "metadata": {},
   "source": [
    "## Change working directory"
   ]
  },
  {
   "cell_type": "markdown",
   "id": "ee078de5",
   "metadata": {},
   "source": [
    "By default, the working directory is \"jupyter_notebooks\", where the notebook is running. However, we need to change the working directory to its parent folder so that file references align with the broader project structure.\n",
    "\n",
    "To do this, we first check the current working directory — note that the output below only displays the last two folders in the file path, rather than the full system path. This is done intentionally to prevent exposing the full local file path stored on my machine.\n",
    "\n",
    "**Any time you revisit this notebook after logging out, or open a different notebook for the first time, you must repeat these steps to ensure the working directory is always correctly set.**"
   ]
  },
  {
   "cell_type": "code",
   "execution_count": null,
   "id": "750a5553",
   "metadata": {},
   "outputs": [
    {
     "data": {
      "text/plain": [
       "'c:\\\\Users\\\\nickd\\\\OneDrive\\\\Desktop\\\\Projects\\\\mildew_detector\\\\jupyter_notebooks'"
      ]
     },
     "execution_count": 1,
     "metadata": {},
     "output_type": "execute_result"
    }
   ],
   "source": [
    "import os\n",
    "\n",
    "# Get the current directory\n",
    "current_dir = os.getcwd()\n",
    "current_dir\n"
   ]
  },
  {
   "cell_type": "markdown",
   "id": "b31994a0",
   "metadata": {},
   "source": [
    "Now we change the working directory from \"jupyter_notebooks\" to the parent directory."
   ]
  },
  {
   "cell_type": "code",
   "execution_count": 2,
   "id": "349a9320",
   "metadata": {},
   "outputs": [
    {
     "name": "stdout",
     "output_type": "stream",
     "text": [
      "You set a new current directory\n"
     ]
    }
   ],
   "source": [
    "# Change the working directory to its parent folder\n",
    "os.chdir(os.path.dirname(os.getcwd()))\n",
    "\n",
    "# Confirmation message\n",
    "print(\"You set a new current directory\")\n"
   ]
  },
  {
   "cell_type": "markdown",
   "id": "b0c796bd",
   "metadata": {},
   "source": [
    "Confirm the new current directory."
   ]
  },
  {
   "cell_type": "code",
   "execution_count": 3,
   "id": "5891f58b",
   "metadata": {},
   "outputs": [
    {
     "data": {
      "text/plain": [
       "'c:\\\\Users\\\\nickd\\\\OneDrive\\\\Desktop\\\\Projects\\\\mildew_detector'"
      ]
     },
     "execution_count": 3,
     "metadata": {},
     "output_type": "execute_result"
    }
   ],
   "source": [
    "# Confirm that the directory has changed\n",
    "current_dir = os.getcwd()\n",
    "current_dir\n"
   ]
  },
  {
   "cell_type": "markdown",
   "id": "73d6abe4",
   "metadata": {},
   "source": [
    "## Import Packages"
   ]
  },
  {
   "cell_type": "code",
   "execution_count": null,
   "id": "029e03cc",
   "metadata": {},
   "outputs": [
    {
     "name": "stdout",
     "output_type": "stream",
     "text": [
      "Requirement already satisfied: matplotlib==3.8.0 in c:\\users\\nickd\\onedrive\\desktop\\projects\\mildew_detector\\.venv\\lib\\site-packages (from -r requirements.txt (line 1)) (3.8.0)\n",
      "Requirement already satisfied: streamlit==1.40.2 in c:\\users\\nickd\\onedrive\\desktop\\projects\\mildew_detector\\.venv\\lib\\site-packages (from -r requirements.txt (line 2)) (1.40.2)\n",
      "Requirement already satisfied: joblib==1.4.2 in c:\\users\\nickd\\onedrive\\desktop\\projects\\mildew_detector\\.venv\\lib\\site-packages (from -r requirements.txt (line 3)) (1.4.2)\n",
      "Requirement already satisfied: keras==3.10.0 in c:\\users\\nickd\\onedrive\\desktop\\projects\\mildew_detector\\.venv\\lib\\site-packages (from -r requirements.txt (line 4)) (3.10.0)\n",
      "Requirement already satisfied: numpy==1.26.4 in c:\\users\\nickd\\onedrive\\desktop\\projects\\mildew_detector\\.venv\\lib\\site-packages (from -r requirements.txt (line 5)) (1.26.4)\n",
      "Requirement already satisfied: pandas==2.1.1 in c:\\users\\nickd\\onedrive\\desktop\\projects\\mildew_detector\\.venv\\lib\\site-packages (from -r requirements.txt (line 6)) (2.1.1)\n",
      "Requirement already satisfied: seaborn==0.13.2 in c:\\users\\nickd\\onedrive\\desktop\\projects\\mildew_detector\\.venv\\lib\\site-packages (from -r requirements.txt (line 7)) (0.13.2)\n",
      "Requirement already satisfied: tensorflow-cpu==2.16.1 in c:\\users\\nickd\\onedrive\\desktop\\projects\\mildew_detector\\.venv\\lib\\site-packages (from -r requirements.txt (line 8)) (2.16.1)\n",
      "Requirement already satisfied: contourpy>=1.0.1 in c:\\users\\nickd\\onedrive\\desktop\\projects\\mildew_detector\\.venv\\lib\\site-packages (from matplotlib==3.8.0->-r requirements.txt (line 1)) (1.3.2)\n",
      "Requirement already satisfied: cycler>=0.10 in c:\\users\\nickd\\onedrive\\desktop\\projects\\mildew_detector\\.venv\\lib\\site-packages (from matplotlib==3.8.0->-r requirements.txt (line 1)) (0.12.1)\n",
      "Requirement already satisfied: fonttools>=4.22.0 in c:\\users\\nickd\\onedrive\\desktop\\projects\\mildew_detector\\.venv\\lib\\site-packages (from matplotlib==3.8.0->-r requirements.txt (line 1)) (4.58.0)\n",
      "Requirement already satisfied: kiwisolver>=1.0.1 in c:\\users\\nickd\\onedrive\\desktop\\projects\\mildew_detector\\.venv\\lib\\site-packages (from matplotlib==3.8.0->-r requirements.txt (line 1)) (1.4.8)\n",
      "Requirement already satisfied: packaging>=20.0 in c:\\users\\nickd\\onedrive\\desktop\\projects\\mildew_detector\\.venv\\lib\\site-packages (from matplotlib==3.8.0->-r requirements.txt (line 1)) (24.2)\n",
      "Requirement already satisfied: pillow>=6.2.0 in c:\\users\\nickd\\onedrive\\desktop\\projects\\mildew_detector\\.venv\\lib\\site-packages (from matplotlib==3.8.0->-r requirements.txt (line 1)) (10.0.1)\n",
      "Requirement already satisfied: pyparsing>=2.3.1 in c:\\users\\nickd\\onedrive\\desktop\\projects\\mildew_detector\\.venv\\lib\\site-packages (from matplotlib==3.8.0->-r requirements.txt (line 1)) (3.2.3)\n",
      "Requirement already satisfied: python-dateutil>=2.7 in c:\\users\\nickd\\onedrive\\desktop\\projects\\mildew_detector\\.venv\\lib\\site-packages (from matplotlib==3.8.0->-r requirements.txt (line 1)) (2.9.0.post0)\n",
      "Requirement already satisfied: altair<6,>=4.0 in c:\\users\\nickd\\onedrive\\desktop\\projects\\mildew_detector\\.venv\\lib\\site-packages (from streamlit==1.40.2->-r requirements.txt (line 2)) (5.5.0)\n",
      "Requirement already satisfied: blinker<2,>=1.0.0 in c:\\users\\nickd\\onedrive\\desktop\\projects\\mildew_detector\\.venv\\lib\\site-packages (from streamlit==1.40.2->-r requirements.txt (line 2)) (1.9.0)\n",
      "Requirement already satisfied: cachetools<6,>=4.0 in c:\\users\\nickd\\onedrive\\desktop\\projects\\mildew_detector\\.venv\\lib\\site-packages (from streamlit==1.40.2->-r requirements.txt (line 2)) (5.5.2)\n",
      "Requirement already satisfied: click<9,>=7.0 in c:\\users\\nickd\\onedrive\\desktop\\projects\\mildew_detector\\.venv\\lib\\site-packages (from streamlit==1.40.2->-r requirements.txt (line 2)) (8.2.0)\n",
      "Requirement already satisfied: protobuf<6,>=3.20 in c:\\users\\nickd\\onedrive\\desktop\\projects\\mildew_detector\\.venv\\lib\\site-packages (from streamlit==1.40.2->-r requirements.txt (line 2)) (4.25.7)\n",
      "Requirement already satisfied: pyarrow>=7.0 in c:\\users\\nickd\\onedrive\\desktop\\projects\\mildew_detector\\.venv\\lib\\site-packages (from streamlit==1.40.2->-r requirements.txt (line 2)) (20.0.0)\n",
      "Requirement already satisfied: requests<3,>=2.27 in c:\\users\\nickd\\onedrive\\desktop\\projects\\mildew_detector\\.venv\\lib\\site-packages (from streamlit==1.40.2->-r requirements.txt (line 2)) (2.32.3)\n",
      "Requirement already satisfied: rich<14,>=10.14.0 in c:\\users\\nickd\\onedrive\\desktop\\projects\\mildew_detector\\.venv\\lib\\site-packages (from streamlit==1.40.2->-r requirements.txt (line 2)) (13.9.4)\n",
      "Requirement already satisfied: tenacity<10,>=8.1.0 in c:\\users\\nickd\\onedrive\\desktop\\projects\\mildew_detector\\.venv\\lib\\site-packages (from streamlit==1.40.2->-r requirements.txt (line 2)) (9.1.2)\n",
      "Requirement already satisfied: toml<2,>=0.10.1 in c:\\users\\nickd\\onedrive\\desktop\\projects\\mildew_detector\\.venv\\lib\\site-packages (from streamlit==1.40.2->-r requirements.txt (line 2)) (0.10.2)\n",
      "Requirement already satisfied: typing-extensions<5,>=4.3.0 in c:\\users\\nickd\\onedrive\\desktop\\projects\\mildew_detector\\.venv\\lib\\site-packages (from streamlit==1.40.2->-r requirements.txt (line 2)) (4.13.2)\n",
      "Requirement already satisfied: watchdog<7,>=2.1.5 in c:\\users\\nickd\\onedrive\\desktop\\projects\\mildew_detector\\.venv\\lib\\site-packages (from streamlit==1.40.2->-r requirements.txt (line 2)) (6.0.0)\n",
      "Requirement already satisfied: gitpython!=3.1.19,<4,>=3.0.7 in c:\\users\\nickd\\onedrive\\desktop\\projects\\mildew_detector\\.venv\\lib\\site-packages (from streamlit==1.40.2->-r requirements.txt (line 2)) (3.1.44)\n",
      "Requirement already satisfied: pydeck<1,>=0.8.0b4 in c:\\users\\nickd\\onedrive\\desktop\\projects\\mildew_detector\\.venv\\lib\\site-packages (from streamlit==1.40.2->-r requirements.txt (line 2)) (0.9.1)\n",
      "Requirement already satisfied: tornado<7,>=6.0.3 in c:\\users\\nickd\\onedrive\\desktop\\projects\\mildew_detector\\.venv\\lib\\site-packages (from streamlit==1.40.2->-r requirements.txt (line 2)) (6.5)\n",
      "Requirement already satisfied: pytz>=2020.1 in c:\\users\\nickd\\onedrive\\desktop\\projects\\mildew_detector\\.venv\\lib\\site-packages (from pandas==2.1.1->-r requirements.txt (line 6)) (2025.2)\n",
      "Requirement already satisfied: tzdata>=2022.1 in c:\\users\\nickd\\onedrive\\desktop\\projects\\mildew_detector\\.venv\\lib\\site-packages (from pandas==2.1.1->-r requirements.txt (line 6)) (2025.2)\n",
      "Requirement already satisfied: absl-py in c:\\users\\nickd\\onedrive\\desktop\\projects\\mildew_detector\\.venv\\lib\\site-packages (from keras==3.10.0->-r requirements.txt (line 4)) (2.2.2)\n",
      "Requirement already satisfied: namex in c:\\users\\nickd\\onedrive\\desktop\\projects\\mildew_detector\\.venv\\lib\\site-packages (from keras==3.10.0->-r requirements.txt (line 4)) (0.0.9)\n",
      "Requirement already satisfied: h5py in c:\\users\\nickd\\onedrive\\desktop\\projects\\mildew_detector\\.venv\\lib\\site-packages (from keras==3.10.0->-r requirements.txt (line 4)) (3.13.0)\n",
      "Requirement already satisfied: optree in c:\\users\\nickd\\onedrive\\desktop\\projects\\mildew_detector\\.venv\\lib\\site-packages (from keras==3.10.0->-r requirements.txt (line 4)) (0.15.0)\n",
      "Requirement already satisfied: ml-dtypes in c:\\users\\nickd\\onedrive\\desktop\\projects\\mildew_detector\\.venv\\lib\\site-packages (from keras==3.10.0->-r requirements.txt (line 4)) (0.3.2)\n",
      "Requirement already satisfied: tensorflow-intel==2.16.1 in c:\\users\\nickd\\onedrive\\desktop\\projects\\mildew_detector\\.venv\\lib\\site-packages (from tensorflow-cpu==2.16.1->-r requirements.txt (line 8)) (2.16.1)\n",
      "Requirement already satisfied: astunparse>=1.6.0 in c:\\users\\nickd\\onedrive\\desktop\\projects\\mildew_detector\\.venv\\lib\\site-packages (from tensorflow-intel==2.16.1->tensorflow-cpu==2.16.1->-r requirements.txt (line 8)) (1.6.3)\n",
      "Requirement already satisfied: flatbuffers>=23.5.26 in c:\\users\\nickd\\onedrive\\desktop\\projects\\mildew_detector\\.venv\\lib\\site-packages (from tensorflow-intel==2.16.1->tensorflow-cpu==2.16.1->-r requirements.txt (line 8)) (25.2.10)\n",
      "Requirement already satisfied: gast!=0.5.0,!=0.5.1,!=0.5.2,>=0.2.1 in c:\\users\\nickd\\onedrive\\desktop\\projects\\mildew_detector\\.venv\\lib\\site-packages (from tensorflow-intel==2.16.1->tensorflow-cpu==2.16.1->-r requirements.txt (line 8)) (0.6.0)\n",
      "Requirement already satisfied: google-pasta>=0.1.1 in c:\\users\\nickd\\onedrive\\desktop\\projects\\mildew_detector\\.venv\\lib\\site-packages (from tensorflow-intel==2.16.1->tensorflow-cpu==2.16.1->-r requirements.txt (line 8)) (0.2.0)\n",
      "Requirement already satisfied: libclang>=13.0.0 in c:\\users\\nickd\\onedrive\\desktop\\projects\\mildew_detector\\.venv\\lib\\site-packages (from tensorflow-intel==2.16.1->tensorflow-cpu==2.16.1->-r requirements.txt (line 8)) (18.1.1)\n",
      "Requirement already satisfied: opt-einsum>=2.3.2 in c:\\users\\nickd\\onedrive\\desktop\\projects\\mildew_detector\\.venv\\lib\\site-packages (from tensorflow-intel==2.16.1->tensorflow-cpu==2.16.1->-r requirements.txt (line 8)) (3.4.0)\n",
      "Requirement already satisfied: setuptools in c:\\users\\nickd\\onedrive\\desktop\\projects\\mildew_detector\\.venv\\lib\\site-packages (from tensorflow-intel==2.16.1->tensorflow-cpu==2.16.1->-r requirements.txt (line 8)) (80.8.0)\n",
      "Requirement already satisfied: six>=1.12.0 in c:\\users\\nickd\\onedrive\\desktop\\projects\\mildew_detector\\.venv\\lib\\site-packages (from tensorflow-intel==2.16.1->tensorflow-cpu==2.16.1->-r requirements.txt (line 8)) (1.17.0)\n",
      "Requirement already satisfied: termcolor>=1.1.0 in c:\\users\\nickd\\onedrive\\desktop\\projects\\mildew_detector\\.venv\\lib\\site-packages (from tensorflow-intel==2.16.1->tensorflow-cpu==2.16.1->-r requirements.txt (line 8)) (3.1.0)\n",
      "Requirement already satisfied: wrapt>=1.11.0 in c:\\users\\nickd\\onedrive\\desktop\\projects\\mildew_detector\\.venv\\lib\\site-packages (from tensorflow-intel==2.16.1->tensorflow-cpu==2.16.1->-r requirements.txt (line 8)) (1.17.2)\n",
      "Requirement already satisfied: grpcio<2.0,>=1.24.3 in c:\\users\\nickd\\onedrive\\desktop\\projects\\mildew_detector\\.venv\\lib\\site-packages (from tensorflow-intel==2.16.1->tensorflow-cpu==2.16.1->-r requirements.txt (line 8)) (1.71.0)\n",
      "Requirement already satisfied: tensorboard<2.17,>=2.16 in c:\\users\\nickd\\onedrive\\desktop\\projects\\mildew_detector\\.venv\\lib\\site-packages (from tensorflow-intel==2.16.1->tensorflow-cpu==2.16.1->-r requirements.txt (line 8)) (2.16.2)\n",
      "Requirement already satisfied: jinja2 in c:\\users\\nickd\\onedrive\\desktop\\projects\\mildew_detector\\.venv\\lib\\site-packages (from altair<6,>=4.0->streamlit==1.40.2->-r requirements.txt (line 2)) (3.1.6)\n",
      "Requirement already satisfied: jsonschema>=3.0 in c:\\users\\nickd\\onedrive\\desktop\\projects\\mildew_detector\\.venv\\lib\\site-packages (from altair<6,>=4.0->streamlit==1.40.2->-r requirements.txt (line 2)) (4.23.0)\n",
      "Requirement already satisfied: narwhals>=1.14.2 in c:\\users\\nickd\\onedrive\\desktop\\projects\\mildew_detector\\.venv\\lib\\site-packages (from altair<6,>=4.0->streamlit==1.40.2->-r requirements.txt (line 2)) (1.40.0)\n",
      "Requirement already satisfied: colorama in c:\\users\\nickd\\onedrive\\desktop\\projects\\mildew_detector\\.venv\\lib\\site-packages (from click<9,>=7.0->streamlit==1.40.2->-r requirements.txt (line 2)) (0.4.6)\n",
      "Requirement already satisfied: gitdb<5,>=4.0.1 in c:\\users\\nickd\\onedrive\\desktop\\projects\\mildew_detector\\.venv\\lib\\site-packages (from gitpython!=3.1.19,<4,>=3.0.7->streamlit==1.40.2->-r requirements.txt (line 2)) (4.0.12)\n",
      "Requirement already satisfied: smmap<6,>=3.0.1 in c:\\users\\nickd\\onedrive\\desktop\\projects\\mildew_detector\\.venv\\lib\\site-packages (from gitdb<5,>=4.0.1->gitpython!=3.1.19,<4,>=3.0.7->streamlit==1.40.2->-r requirements.txt (line 2)) (5.0.2)\n",
      "Requirement already satisfied: charset-normalizer<4,>=2 in c:\\users\\nickd\\onedrive\\desktop\\projects\\mildew_detector\\.venv\\lib\\site-packages (from requests<3,>=2.27->streamlit==1.40.2->-r requirements.txt (line 2)) (3.4.2)\n",
      "Requirement already satisfied: idna<4,>=2.5 in c:\\users\\nickd\\onedrive\\desktop\\projects\\mildew_detector\\.venv\\lib\\site-packages (from requests<3,>=2.27->streamlit==1.40.2->-r requirements.txt (line 2)) (3.10)\n",
      "Requirement already satisfied: urllib3<3,>=1.21.1 in c:\\users\\nickd\\onedrive\\desktop\\projects\\mildew_detector\\.venv\\lib\\site-packages (from requests<3,>=2.27->streamlit==1.40.2->-r requirements.txt (line 2)) (2.4.0)\n",
      "Requirement already satisfied: certifi>=2017.4.17 in c:\\users\\nickd\\onedrive\\desktop\\projects\\mildew_detector\\.venv\\lib\\site-packages (from requests<3,>=2.27->streamlit==1.40.2->-r requirements.txt (line 2)) (2025.4.26)\n",
      "Requirement already satisfied: markdown-it-py>=2.2.0 in c:\\users\\nickd\\onedrive\\desktop\\projects\\mildew_detector\\.venv\\lib\\site-packages (from rich<14,>=10.14.0->streamlit==1.40.2->-r requirements.txt (line 2)) (3.0.0)\n",
      "Requirement already satisfied: pygments<3.0.0,>=2.13.0 in c:\\users\\nickd\\onedrive\\desktop\\projects\\mildew_detector\\.venv\\lib\\site-packages (from rich<14,>=10.14.0->streamlit==1.40.2->-r requirements.txt (line 2)) (2.19.1)\n",
      "Requirement already satisfied: markdown>=2.6.8 in c:\\users\\nickd\\onedrive\\desktop\\projects\\mildew_detector\\.venv\\lib\\site-packages (from tensorboard<2.17,>=2.16->tensorflow-intel==2.16.1->tensorflow-cpu==2.16.1->-r requirements.txt (line 8)) (3.8)\n",
      "Requirement already satisfied: tensorboard-data-server<0.8.0,>=0.7.0 in c:\\users\\nickd\\onedrive\\desktop\\projects\\mildew_detector\\.venv\\lib\\site-packages (from tensorboard<2.17,>=2.16->tensorflow-intel==2.16.1->tensorflow-cpu==2.16.1->-r requirements.txt (line 8)) (0.7.2)\n",
      "Requirement already satisfied: werkzeug>=1.0.1 in c:\\users\\nickd\\onedrive\\desktop\\projects\\mildew_detector\\.venv\\lib\\site-packages (from tensorboard<2.17,>=2.16->tensorflow-intel==2.16.1->tensorflow-cpu==2.16.1->-r requirements.txt (line 8)) (3.1.3)\n",
      "Requirement already satisfied: wheel<1.0,>=0.23.0 in c:\\users\\nickd\\onedrive\\desktop\\projects\\mildew_detector\\.venv\\lib\\site-packages (from astunparse>=1.6.0->tensorflow-intel==2.16.1->tensorflow-cpu==2.16.1->-r requirements.txt (line 8)) (0.45.1)\n",
      "Requirement already satisfied: MarkupSafe>=2.0 in c:\\users\\nickd\\onedrive\\desktop\\projects\\mildew_detector\\.venv\\lib\\site-packages (from jinja2->altair<6,>=4.0->streamlit==1.40.2->-r requirements.txt (line 2)) (3.0.2)\n",
      "Requirement already satisfied: attrs>=22.2.0 in c:\\users\\nickd\\onedrive\\desktop\\projects\\mildew_detector\\.venv\\lib\\site-packages (from jsonschema>=3.0->altair<6,>=4.0->streamlit==1.40.2->-r requirements.txt (line 2)) (25.3.0)\n",
      "Requirement already satisfied: jsonschema-specifications>=2023.03.6 in c:\\users\\nickd\\onedrive\\desktop\\projects\\mildew_detector\\.venv\\lib\\site-packages (from jsonschema>=3.0->altair<6,>=4.0->streamlit==1.40.2->-r requirements.txt (line 2)) (2025.4.1)\n",
      "Requirement already satisfied: referencing>=0.28.4 in c:\\users\\nickd\\onedrive\\desktop\\projects\\mildew_detector\\.venv\\lib\\site-packages (from jsonschema>=3.0->altair<6,>=4.0->streamlit==1.40.2->-r requirements.txt (line 2)) (0.36.2)\n",
      "Requirement already satisfied: rpds-py>=0.7.1 in c:\\users\\nickd\\onedrive\\desktop\\projects\\mildew_detector\\.venv\\lib\\site-packages (from jsonschema>=3.0->altair<6,>=4.0->streamlit==1.40.2->-r requirements.txt (line 2)) (0.25.0)\n",
      "Requirement already satisfied: mdurl~=0.1 in c:\\users\\nickd\\onedrive\\desktop\\projects\\mildew_detector\\.venv\\lib\\site-packages (from markdown-it-py>=2.2.0->rich<14,>=10.14.0->streamlit==1.40.2->-r requirements.txt (line 2)) (0.1.2)\n",
      "Note: you may need to restart the kernel to use updated packages.\n"
     ]
    }
   ],
   "source": [
    "%pip install -r requirements.txt\n"
   ]
  },
  {
   "cell_type": "markdown",
   "id": "b6089e89",
   "metadata": {},
   "source": [
    "## Install Kaggle\n",
    "\n",
    "Now we need to think about gathering our data. We will be downloading our images from kaggle.com so we first install kaggle to help with the download.\n",
    "\n",
    "For this you need to have your Kaggle Token handy."
   ]
  },
  {
   "cell_type": "code",
   "execution_count": 5,
   "id": "e48c01e3",
   "metadata": {},
   "outputs": [
    {
     "name": "stdout",
     "output_type": "stream",
     "text": [
      "Requirement already satisfied: kaggle==1.5.12 in c:\\users\\nickd\\onedrive\\desktop\\projects\\mildew_detector\\.venv\\lib\\site-packages (1.5.12)Note: you may need to restart the kernel to use updated packages.\n",
      "\n",
      "Requirement already satisfied: six>=1.10 in c:\\users\\nickd\\onedrive\\desktop\\projects\\mildew_detector\\.venv\\lib\\site-packages (from kaggle==1.5.12) (1.17.0)\n",
      "Requirement already satisfied: certifi in c:\\users\\nickd\\onedrive\\desktop\\projects\\mildew_detector\\.venv\\lib\\site-packages (from kaggle==1.5.12) (2025.4.26)\n",
      "Requirement already satisfied: python-dateutil in c:\\users\\nickd\\onedrive\\desktop\\projects\\mildew_detector\\.venv\\lib\\site-packages (from kaggle==1.5.12) (2.9.0.post0)\n",
      "Requirement already satisfied: requests in c:\\users\\nickd\\onedrive\\desktop\\projects\\mildew_detector\\.venv\\lib\\site-packages (from kaggle==1.5.12) (2.32.3)\n",
      "Requirement already satisfied: tqdm in c:\\users\\nickd\\onedrive\\desktop\\projects\\mildew_detector\\.venv\\lib\\site-packages (from kaggle==1.5.12) (4.67.1)\n",
      "Requirement already satisfied: python-slugify in c:\\users\\nickd\\onedrive\\desktop\\projects\\mildew_detector\\.venv\\lib\\site-packages (from kaggle==1.5.12) (8.0.4)\n",
      "Requirement already satisfied: urllib3 in c:\\users\\nickd\\onedrive\\desktop\\projects\\mildew_detector\\.venv\\lib\\site-packages (from kaggle==1.5.12) (2.4.0)\n",
      "Requirement already satisfied: text-unidecode>=1.3 in c:\\users\\nickd\\onedrive\\desktop\\projects\\mildew_detector\\.venv\\lib\\site-packages (from python-slugify->kaggle==1.5.12) (1.3)\n",
      "Requirement already satisfied: charset-normalizer<4,>=2 in c:\\users\\nickd\\onedrive\\desktop\\projects\\mildew_detector\\.venv\\lib\\site-packages (from requests->kaggle==1.5.12) (3.4.2)\n",
      "Requirement already satisfied: idna<4,>=2.5 in c:\\users\\nickd\\onedrive\\desktop\\projects\\mildew_detector\\.venv\\lib\\site-packages (from requests->kaggle==1.5.12) (3.10)\n",
      "Requirement already satisfied: colorama in c:\\users\\nickd\\onedrive\\desktop\\projects\\mildew_detector\\.venv\\lib\\site-packages (from tqdm->kaggle==1.5.12) (0.4.6)\n"
     ]
    }
   ],
   "source": [
    "# install kaggle package\n",
    "%pip install kaggle==1.5.12\n"
   ]
  },
  {
   "cell_type": "markdown",
   "id": "1299105c",
   "metadata": {},
   "source": [
    "### Set Kaggle configuration directory to current folder\n",
    "\n",
    "Run the code block below to: \n",
    "\n",
    "- set the Kaggle configuartion diretory as the current directory\n",
    "- set full read and write presmisions for the token\n",
    "- check that your kaggle.json file appears as an output alongside requirements.txt. in your project folder"
   ]
  },
  {
   "cell_type": "code",
   "execution_count": 6,
   "id": "11fd9627",
   "metadata": {},
   "outputs": [
    {
     "name": "stdout",
     "output_type": "stream",
     "text": [
      "Full permissions set for: c:\\Users\\nickd\\OneDrive\\Desktop\\Projects\\mildew_detector\\kaggle.json\n",
      "['.git', '.gitattributes', '.gitignore', '.python-version', '.slugignore', '.venv', 'app.py', 'app_pages', 'jupyter_notebooks', 'kaggle.json', 'outputs', 'Procfile', 'README.md', 'readme_screenshots', 'requirements.txt', 'setup.sh']\n"
     ]
    }
   ],
   "source": [
    "import os\n",
    "\n",
    "# Set Kaggle config directory to current folder\n",
    "os.environ['KAGGLE_CONFIG_DIR'] = os.getcwd()\n",
    "\n",
    "# Set full permissions (Windows & Linux compatible)\n",
    "kaggle_token = os.path.join(os.environ['KAGGLE_CONFIG_DIR'], \"kaggle.json\")\n",
    "if os.path.exists(kaggle_token):\n",
    "    os.chmod(kaggle_token, 0o777)  # Full read/write/execute permissions\n",
    "    print(f\"Full permissions set for: {kaggle_token}\")\n",
    "\n",
    "# List files in the directory to verify kaggle.json is present\n",
    "print(os.listdir(os.environ['KAGGLE_CONFIG_DIR']))\n"
   ]
  },
  {
   "cell_type": "markdown",
   "id": "7b74b17e",
   "metadata": {},
   "source": [
    "Now we get the path for the dataset and set the destination folder where the downloaded images will be stored.\n",
    "\n",
    "This code will download a zip folder, then create new folders (\"inputs\" and \"cherry-leaves\") for storing the images."
   ]
  },
  {
   "cell_type": "code",
   "execution_count": 7,
   "id": "fc536291",
   "metadata": {},
   "outputs": [
    {
     "name": "stdout",
     "output_type": "stream",
     "text": [
      "Downloading cherry-leaves.zip to inputs\\cherry-leaves\n",
      "\n"
     ]
    },
    {
     "name": "stderr",
     "output_type": "stream",
     "text": [
      "\n",
      "  0%|          | 0.00/55.0M [00:00<?, ?B/s]\n",
      "  2%|▏         | 1.00M/55.0M [00:00<00:28, 2.00MB/s]\n",
      "  4%|▎         | 2.00M/55.0M [00:00<00:14, 3.75MB/s]\n",
      "  7%|▋         | 4.00M/55.0M [00:00<00:07, 6.81MB/s]\n",
      "  9%|▉         | 5.00M/55.0M [00:00<00:06, 7.51MB/s]\n",
      " 13%|█▎        | 7.00M/55.0M [00:01<00:05, 9.06MB/s]\n",
      " 16%|█▋        | 9.00M/55.0M [00:01<00:04, 10.6MB/s]\n",
      " 20%|█▉        | 11.0M/55.0M [00:01<00:04, 10.3MB/s]\n",
      " 24%|██▎       | 13.0M/55.0M [00:01<00:04, 10.8MB/s]\n",
      " 27%|██▋       | 15.0M/55.0M [00:01<00:03, 10.6MB/s]\n",
      " 31%|███       | 17.0M/55.0M [00:02<00:03, 10.6MB/s]\n",
      " 35%|███▍      | 19.0M/55.0M [00:02<00:03, 10.5MB/s]\n",
      " 38%|███▊      | 21.0M/55.0M [00:02<00:03, 10.3MB/s]\n",
      " 40%|███▉      | 22.0M/55.0M [00:02<00:03, 10.3MB/s]\n",
      " 42%|████▏     | 23.0M/55.0M [00:02<00:03, 10.2MB/s]\n",
      " 45%|████▌     | 25.0M/55.0M [00:02<00:03, 10.4MB/s]\n",
      " 47%|████▋     | 26.0M/55.0M [00:02<00:02, 10.4MB/s]\n",
      " 51%|█████     | 28.0M/55.0M [00:03<00:02, 11.4MB/s]\n",
      " 55%|█████▍    | 30.0M/55.0M [00:03<00:02, 12.0MB/s]\n",
      " 58%|█████▊    | 32.0M/55.0M [00:03<00:01, 13.0MB/s]\n",
      " 62%|██████▏   | 34.0M/55.0M [00:03<00:01, 13.7MB/s]\n",
      " 65%|██████▌   | 36.0M/55.0M [00:03<00:01, 13.9MB/s]\n",
      " 69%|██████▉   | 38.0M/55.0M [00:03<00:01, 14.1MB/s]\n",
      " 73%|███████▎  | 40.0M/55.0M [00:03<00:01, 14.3MB/s]\n",
      " 76%|███████▋  | 42.0M/55.0M [00:04<00:00, 13.9MB/s]\n",
      " 80%|███████▉  | 44.0M/55.0M [00:04<00:00, 14.4MB/s]\n",
      " 84%|████████▎ | 46.0M/55.0M [00:04<00:00, 14.1MB/s]\n",
      " 87%|████████▋ | 48.0M/55.0M [00:04<00:00, 14.2MB/s]\n",
      " 91%|█████████ | 50.0M/55.0M [00:04<00:00, 13.9MB/s]\n",
      " 95%|█████████▍| 52.0M/55.0M [00:04<00:00, 14.3MB/s]\n",
      " 98%|█████████▊| 54.0M/55.0M [00:04<00:00, 14.7MB/s]\n",
      "100%|██████████| 55.0M/55.0M [00:05<00:00, 11.5MB/s]\n"
     ]
    }
   ],
   "source": [
    "from pathlib import Path\n",
    "\n",
    "# Define Kaggle dataset and destination folder using pathlib\n",
    "KaggleDatasetPath = \"codeinstitute/cherry-leaves\"\n",
    "# Ensure correct path handling across OS\n",
    "DestinationFolder = Path(\"inputs\") / \"cherry-leaves\"\n",
    "\n",
    "# Download the Kaggle dataset into the specified folder\n",
    "! kaggle datasets download -d {KaggleDatasetPath} -p {DestinationFolder}\n"
   ]
  },
  {
   "cell_type": "markdown",
   "id": "8ebdb5aa",
   "metadata": {},
   "source": [
    "Now we need to unzip the downloaded file and get hold of the images. \n",
    "\n",
    "The cell below will unzip the file and store the images inside a new directory within the \"inputs\" folder.\n",
    "\n",
    "The code will also delete the zip file and your Kaggle Token for data protection purposes."
   ]
  },
  {
   "cell_type": "code",
   "execution_count": 8,
   "id": "589138a1",
   "metadata": {},
   "outputs": [
    {
     "name": "stdout",
     "output_type": "stream",
     "text": [
      "Extracted files into: inputs\\cherry-leaves\n",
      "Deleted: inputs\\cherry-leaves\\cherry-leaves.zip\n",
      "Kaggle Token removed: kaggle.json\n"
     ]
    }
   ],
   "source": [
    "import zipfile\n",
    "from pathlib import Path\n",
    "\n",
    "# Define the file paths\n",
    "zip_file = Path(\"inputs\") / \"cherry-leaves\" / \"cherry-leaves.zip\"\n",
    "extract_folder = Path(\"inputs\") / \"cherry-leaves\"\n",
    "kaggle_token = Path(\"kaggle.json\")\n",
    "\n",
    "# Unzip the file and extract data\n",
    "with zipfile.ZipFile(zip_file, \"r\") as zip_ref:\n",
    "    zip_ref.extractall(extract_folder)\n",
    "\n",
    "print(f\"Extracted files into: {extract_folder}\")\n",
    "\n",
    "# Delete the zip file after extraction\n",
    "zip_file.unlink()\n",
    "print(f\"Deleted: {zip_file}\")\n",
    "\n",
    "# Remove Kaggle token for security purposes\n",
    "if kaggle_token.exists():\n",
    "    kaggle_token.unlink()\n",
    "    print(f\"Kaggle Token removed: {kaggle_token}\")\n"
   ]
  },
  {
   "cell_type": "markdown",
   "id": "00fe6268",
   "metadata": {},
   "source": [
    "## Data Preparation\n",
    "\n",
    "Now we have the images downloaded and stored in the right place, we need to check that the data is suitable for our project.\n",
    "\n",
    "As we are concerned with using image data, we need to check that any non-image files are identified and removed.\n",
    "\n",
    "The function below will do this."
   ]
  },
  {
   "cell_type": "code",
   "execution_count": 9,
   "id": "e1c4ba1f",
   "metadata": {},
   "outputs": [],
   "source": [
    "from pathlib import Path\n",
    "\n",
    "def remove_non_image_files(my_data_dir):\n",
    "    \"\"\"\n",
    "    Removes all non-image files from the specified directory \n",
    "    and its subfolders.\n",
    "\n",
    "    Args:\n",
    "        my_data_dir (str): Path to the directory containing image folders.\n",
    "\n",
    "    The function scans each folder within `my_data_dir`, identifies non-image \n",
    "    files, deletes them, and prints a summary of the number of image and \n",
    "    non-image files per folder.\n",
    "    \"\"\"\n",
    "\n",
    "    # Define valid image file extensions\n",
    "    image_extensions = {'.png', '.jpg', '.jpeg'}\n",
    "\n",
    "    # Convert directory path to Path object for better handling\n",
    "    my_data_dir = Path(my_data_dir)\n",
    "\n",
    "    # Check if directory exists\n",
    "    if not my_data_dir.exists():\n",
    "        print(f\"Directory does not exist: {my_data_dir}\")\n",
    "        return\n",
    "\n",
    "    # Iterate through each folder in the main directory\n",
    "    for folder in my_data_dir.iterdir():\n",
    "        if folder.is_dir():  # Ensure only directories are processed\n",
    "            image_count, non_image_count = 0, 0  # Initialize counters\n",
    "\n",
    "            # Iterate through files inside the folder\n",
    "            for given_file in folder.iterdir():\n",
    "                # Convert suffix safely and check extension\n",
    "                if given_file.suffix and given_file.suffix.lower() \\\n",
    "                        not in image_extensions:\n",
    "                    given_file.unlink()  # Remove non-image file\n",
    "                    non_image_count += 1\n",
    "                else:\n",
    "                    image_count += 1\n",
    "\n",
    "            # Print summary of processed files\n",
    "            print(f\"Folder: {folder.name} - {image_count} image files\")\n",
    "            print(f\"Folder: {folder.name} - {non_image_count} non-image files\")\n"
   ]
  },
  {
   "cell_type": "markdown",
   "id": "0fb21748",
   "metadata": {},
   "source": [
    "Now we call the function..."
   ]
  },
  {
   "cell_type": "code",
   "execution_count": 10,
   "id": "62769aff",
   "metadata": {},
   "outputs": [
    {
     "name": "stdout",
     "output_type": "stream",
     "text": [
      "Folder: healthy - 2104 image files\n",
      "Folder: healthy - 0 non-image files\n",
      "Folder: powdery_mildew - 2104 image files\n",
      "Folder: powdery_mildew - 0 non-image files\n"
     ]
    }
   ],
   "source": [
    "remove_non_image_files(my_data_dir=r'inputs/cherry-leaves/cherry-leaves')"
   ]
  },
  {
   "cell_type": "markdown",
   "id": "da492483",
   "metadata": {},
   "source": [
    "## Split the Data\n",
    "\n",
    "Now that we know the data is all images, we can split it into the groups we will need to build and fit a training model. These groups are:\n",
    "\n",
    "- Train set\n",
    "- Test set\n",
    "- Validation set\n",
    "\n",
    "The function below will create subfolders and split the data amongst them according to the arguments we define when calling the function.\n",
    "\n"
   ]
  },
  {
   "cell_type": "code",
   "execution_count": 11,
   "id": "0611dcd7",
   "metadata": {},
   "outputs": [],
   "source": [
    "from pathlib import Path\n",
    "import shutil\n",
    "import random\n",
    "\n",
    "\n",
    "def split_train_validation_test_images(\n",
    "    data_dir, train_ratio, val_ratio, test_ratio\n",
    "):\n",
    "    \"\"\"\n",
    "    Splits images into train, validation, and test sets based on given ratios.\n",
    "\n",
    "    Args:\n",
    "        data_dir (str or Path): Directory containing subfolders of images,\n",
    "            where each subfolder represents a class label.\n",
    "        train_ratio (float): Proportion of images allocated to training.\n",
    "        val_ratio (float): Proportion of images allocated to validation.\n",
    "        test_ratio (float): Proportion of images allocated to testing.\n",
    "\n",
    "    Raises:\n",
    "        ValueError: If train_ratio, val_ratio, and test_ratio\n",
    "        do not sum to 1.0.\n",
    "    \"\"\"\n",
    "\n",
    "    # Ensure the ratios sum to 1.0 (rounded for floating-point precision)\n",
    "    if round(train_ratio + val_ratio + test_ratio, 5) != 1.0:\n",
    "        raise ValueError(\"ratios must sum to 1.0\")\n",
    "\n",
    "    # Convert data_dir to Path object if not already an object\n",
    "    data_dir = Path(data_dir)\n",
    "\n",
    "    # Get only directories (class labels) inside the dataset directory\n",
    "    labels = [label for label in data_dir.iterdir() if label.is_dir()]\n",
    "\n",
    "    # Create train, validation, and test directories\n",
    "    for folder in ['train', 'validation', 'test']:\n",
    "        for label in labels:\n",
    "            (data_dir / folder / label.name).mkdir(parents=True, exist_ok=True)\n",
    "\n",
    "    for label in labels:\n",
    "        # List only files and ignore subdirectories\n",
    "        files = [f for f in label.iterdir() if f.is_file()]\n",
    "        random.shuffle(files)  # Shuffle for randomness\n",
    "\n",
    "        # Calculate split indices\n",
    "        train_count = int(len(files) * train_ratio)\n",
    "        val_count = int(len(files) * val_ratio)\n",
    "\n",
    "        # Move files to corresponding directories\n",
    "        for i, file_path in enumerate(files):\n",
    "            dst = (\n",
    "                data_dir / 'train' / label.name / file_path.name\n",
    "                if i < train_count else\n",
    "                data_dir / 'validation' / label.name / file_path.name\n",
    "                if i < train_count + val_count else\n",
    "                data_dir / 'test' / label.name / file_path.name\n",
    "            )\n",
    "\n",
    "            shutil.move(str(file_path), str(dst))  # Move file\n",
    "\n",
    "        # Check if folder is empty before deletion\n",
    "        if any(label.iterdir()):\n",
    "            print(f\"Not empty, skipping: {label}\")\n",
    "        else:\n",
    "            label.rmdir()\n",
    "            print(f\"Deleted empty folder: {label}\")\n",
    "\n",
    "    print(\"Dataset split completed successfully!\")\n"
   ]
  },
  {
   "cell_type": "markdown",
   "id": "21185371",
   "metadata": {},
   "source": [
    "Call the function to split the data with the following ratios:\n",
    "\n",
    "- Train = 70%\n",
    "- Test = 20%\n",
    "- Validation = 10%"
   ]
  },
  {
   "cell_type": "code",
   "execution_count": 12,
   "id": "eeba2193",
   "metadata": {},
   "outputs": [
    {
     "name": "stdout",
     "output_type": "stream",
     "text": [
      "Deleted empty folder: inputs\\cherry-leaves\\cherry-leaves\\healthy\n",
      "Deleted empty folder: inputs\\cherry-leaves\\cherry-leaves\\powdery_mildew\n",
      "Dataset split completed successfully!\n"
     ]
    }
   ],
   "source": [
    "split_train_validation_test_images(\n",
    "    data_dir=r\"inputs/cherry-leaves/cherry-leaves\",\n",
    "    train_ratio=0.7,\n",
    "    val_ratio=0.1,\n",
    "    test_ratio=0.2\n",
    ")"
   ]
  },
  {
   "cell_type": "markdown",
   "id": "6fca801f",
   "metadata": {},
   "source": [
    "### Count number of images in each folder"
   ]
  },
  {
   "cell_type": "code",
   "execution_count": 13,
   "id": "5fd1da97",
   "metadata": {},
   "outputs": [
    {
     "name": "stdout",
     "output_type": "stream",
     "text": [
      "Healthy Train: 1472\n",
      "Powdery Mildew Train: 1472\n",
      "Healthy Validation: 210\n",
      "Powdery Mildew Validation: 210\n",
      "Healthy Test: 422\n",
      "Powdery Mildew Test: 422\n"
     ]
    }
   ],
   "source": [
    "from pathlib import Path\n",
    "\n",
    "\n",
    "def count_images(folder_path):\n",
    "    \"\"\"\n",
    "    Counts the number of image files in the specified folder.\n",
    "\n",
    "    Args:\n",
    "        folder_path (str or Path): Path to the folder containing images.\n",
    "\n",
    "    Returns:\n",
    "        int: Number of image files in the folder.\n",
    "    \"\"\"\n",
    "    folder = Path(folder_path)\n",
    "    return sum(1 for f in folder.iterdir() if f.is_file())\n",
    "\n",
    "\n",
    "# Define base dataset directory\n",
    "base_dir = Path(\"inputs/cherry-leaves/cherry-leaves\")\n",
    "\n",
    "# Print image counts for each dataset split\n",
    "print(f\"Healthy Train: {\n",
    "    count_images(base_dir / 'train' / 'healthy')}\")\n",
    "print(f\"Powdery Mildew Train: {\n",
    "    count_images(base_dir / 'train' / 'powdery_mildew')}\")\n",
    "print(f\"Healthy Validation: {\n",
    "    count_images(base_dir / 'validation' / 'healthy')}\")\n",
    "print(f\"Powdery Mildew Validation: {\n",
    "    count_images(base_dir / 'validation' / 'powdery_mildew')}\")\n",
    "print(f\"Healthy Test: {\n",
    "    count_images(base_dir / 'test' / 'healthy')}\")\n",
    "print(f\"Powdery Mildew Test: {\n",
    "    count_images(base_dir / 'test' / 'powdery_mildew')}\")\n"
   ]
  },
  {
   "cell_type": "markdown",
   "id": "52e4b6d3",
   "metadata": {},
   "source": [
    "## Summary\n",
    "\n",
    "In this notebook we have:\n",
    "\n",
    "- Installed the required packages\n",
    "- Installed Kaggle and the authentication token\n",
    "- Downloaded the image data from kaggle.com\n",
    "- Removed the image data from the zip folder, deleted the folder and Kaggle authentication token\n",
    "- Checked the image data for any non-image files\n",
    "- Split the images into train, test and validation sets\n",
    "- Counted how many images are in each folder\n",
    "\n",
    "When you are ready, move on to the next notebook where we will look at Data Visualizations!\n"
   ]
  }
 ],
 "metadata": {
  "kernelspec": {
   "display_name": ".venv",
   "language": "python",
   "name": "python3"
  },
  "language_info": {
   "codemirror_mode": {
    "name": "ipython",
    "version": 3
   },
   "file_extension": ".py",
   "mimetype": "text/x-python",
   "name": "python",
   "nbconvert_exporter": "python",
   "pygments_lexer": "ipython3",
   "version": "3.12.5"
  }
 },
 "nbformat": 4,
 "nbformat_minor": 5
}
