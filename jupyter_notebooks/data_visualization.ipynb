{
 "cells": [
  {
   "cell_type": "markdown",
   "id": "d4c12440",
   "metadata": {},
   "source": [
    "# Data Visualization Notebook\n",
    "\n",
    "**Make sure that you have run data_collection.ipynb before running this one.**"
   ]
  },
  {
   "cell_type": "markdown",
   "id": "eb26b11d",
   "metadata": {},
   "source": [
    "## Objectives\n",
    "\n",
    "- Address business requirement 1:\n",
    "    - The client is interested in conducting a study to visually differentiate a cherry leaf that is healthy from one that contains powdery mildew.\n",
    "\n",
    "## Inputs\n",
    "\n",
    "This notebook will use the following inputs:\n",
    "- inputs/cherry-leaves/cherry-leaves/test\n",
    "- inputs/cherry-leaves/cherry-leaves/train\n",
    "- inputs/cherry-leaves/cherry-leaves/validation\n",
    "\n",
    "## Outputs\n",
    "\n",
    "This notebook will generate the following outputs:\n",
    "- A pickle file storing image shape embeddings (image data stored as a numerical representation) \n",
    "- Plots that show the mean (average) image and variability of images for each label\n",
    "- A plot to show the difference between healthy leaves and mildewed leaves\n",
    "- Code to address business requirement 1 and build an image montage\n"
   ]
  },
  {
   "cell_type": "markdown",
   "id": "6a4dcad4",
   "metadata": {},
   "source": [
    "## Import Packages"
   ]
  },
  {
   "cell_type": "code",
   "execution_count": null,
   "id": "34324316",
   "metadata": {},
   "outputs": [],
   "source": [
    "import os\n",
    "import pandas as pd\n",
    "import numpy as np\n",
    "import matplotlib.pyplot as plt\n",
    "import seaborn as sns\n",
    "import joblib\n",
    "import random\n",
    "sns.set_style(\"white\")\n",
    "from pathlib import Path\n",
    "from matplotlib.image import imread\n",
    "from PIL import Image\n",
    "from tensorflow.keras.preprocessing import image\n"
   ]
  },
  {
   "cell_type": "markdown",
   "id": "889039d9",
   "metadata": {},
   "source": [
    "## Change working directory"
   ]
  },
  {
   "cell_type": "markdown",
   "id": "b548f130",
   "metadata": {},
   "source": [
    "By default, the working directory is \"jupyter_notebooks\", where the notebook is running. However, we need to change the working directory to its parent folder so that file references align with the broader project structure.\n",
    "\n",
    "To do this, we first check the current working directory — note that the output below only displays the last two folders in the file path, rather than the full system path. This is done intentionally to prevent exposing the full local file path stored on my machine.\n",
    "\n",
    "**Any time you revisit this notebook after logging out, or open a different notebook for the first time, you must repeat these steps to ensure the working directory is always correctly set.**"
   ]
  },
  {
   "cell_type": "code",
   "execution_count": null,
   "id": "9a46ae3f",
   "metadata": {},
   "outputs": [],
   "source": [
    "# Get the current directory\n",
    "current_dir = os.getcwd()\n",
    "current_dir\n"
   ]
  },
  {
   "cell_type": "markdown",
   "id": "d407340c",
   "metadata": {},
   "source": [
    "Now we change the working directory from \"jupyter_notebooks\" to the parent directory."
   ]
  },
  {
   "cell_type": "code",
   "execution_count": null,
   "id": "9200e5db",
   "metadata": {},
   "outputs": [],
   "source": [
    "# Change the working directory to its parent folder\n",
    "os.chdir(os.path.dirname(os.getcwd()))\n",
    "\n",
    "# Confirmation message\n",
    "print(\"You set a new current directory\")\n"
   ]
  },
  {
   "cell_type": "markdown",
   "id": "6de7b603",
   "metadata": {},
   "source": [
    "Confirm the new current directory."
   ]
  },
  {
   "cell_type": "code",
   "execution_count": null,
   "id": "193e8f90",
   "metadata": {},
   "outputs": [],
   "source": [
    "# Confirm that the directory has changed\n",
    "current_dir = os.getcwd()\n",
    "current_dir\n"
   ]
  },
  {
   "cell_type": "markdown",
   "id": "b0962672",
   "metadata": {},
   "source": [
    "## Set the Input Directories\n",
    "\n",
    "Now we need to define the paths where this notebook will find the data we'll be using."
   ]
  },
  {
   "cell_type": "code",
   "execution_count": null,
   "id": "5eeaa720",
   "metadata": {},
   "outputs": [],
   "source": [
    "# Define base image data path\n",
    "image_data = Path(\"inputs\") / \"cherry-leaves\" / \"cherry-leaves\"\n",
    "\n",
    "# Define paths for train, validation, and test sets\n",
    "train_path = image_data / \"train\"\n",
    "val_path = image_data / \"validation\"\n",
    "test_path = image_data / \"test\"\n",
    "\n",
    "# Print paths\n",
    "print(f\"Train Path: {train_path}\")\n",
    "print(f\"Validation Path: {val_path}\")\n",
    "print(f\"Test Path: {test_path}\")\n"
   ]
  },
  {
   "cell_type": "markdown",
   "id": "2080bdfe",
   "metadata": {},
   "source": [
    "### Confirm that the file paths are valid\n",
    "\n",
    "Now we'll run a function just to check that the file paths defined above are valid.\n",
    "\n",
    "The function will select one image from each train, test and validation folder and display it below along with the file path beginning with the \"inputs\" folder."
   ]
  },
  {
   "cell_type": "code",
   "execution_count": null,
   "id": "809aac1c",
   "metadata": {},
   "outputs": [],
   "source": [
    "from pathlib import Path\n",
    "\n",
    "\n",
    "# Function to find and display a random image from subfolders\n",
    "def show_random_image(parent_folder):\n",
    "    \"\"\"\n",
    "    Selects and displays a random image from a subfolder inside the given\n",
    "    parent directory.\n",
    "\n",
    "    Args:\n",
    "        parent_folder (str or Path): The path to the main dataset folder\n",
    "        (e.g., train, validation, test).\n",
    "\n",
    "    Returns:\n",
    "        str or None: The full path to the randomly selected image,\n",
    "        or None if no images are found.\n",
    "    \"\"\"\n",
    "\n",
    "    parent_folder = Path(parent_folder)  # Ensure a Path object\n",
    "\n",
    "    # Ensure the parent folder exists\n",
    "    if not parent_folder.exists():\n",
    "        print(f\"path does not exist: {parent_folder}\")\n",
    "        return None\n",
    "\n",
    "    # Scan subdirectories ('healthy', 'powdery_mildew')\n",
    "    subfolders = [f for f in parent_folder.iterdir() if f.is_dir()]\n",
    "\n",
    "    if not subfolders:\n",
    "        print(f\"no subfolders found in: {parent_folder}\")\n",
    "        return None\n",
    "\n",
    "    # Pick a random subfolder (class name)\n",
    "    chosen_folder = random.choice(subfolders)\n",
    "\n",
    "    # Find image files inside that subfolder\n",
    "    image_files = [f for f in chosen_folder.iterdir() if f.suffix.lower() in {\n",
    "        '.png', '.jpg', '.jpeg', '.bmp', '.webp'}]\n",
    "\n",
    "    if not image_files:\n",
    "        print(f\"no images found in: {chosen_folder}\")\n",
    "        return None\n",
    "\n",
    "    # Select a random image and display it\n",
    "    chosen_image = random.choice(image_files)\n",
    "\n",
    "    # Load image using PIL\n",
    "    image = Image.open(chosen_image)\n",
    "\n",
    "    # Extract folder name ('healthy'/'powdery_mildew')\n",
    "    # and dataset section ('train'/'validation'/'test')\n",
    "    class_name = chosen_folder.name\n",
    "    dataset_section = parent_folder.name\n",
    "\n",
    "    # Display the image with correct labeling\n",
    "    plt.imshow(image)\n",
    "    plt.title(f\"'{class_name}' image from '{dataset_section}' folder\")\n",
    "    plt.axis(\"off\")  # Hide axes for a cleaner look\n",
    "    plt.show()  # Show the image\n",
    "\n",
    "    return str(chosen_image)  # Return path for confirmation\n",
    "\n",
    "\n",
    "# Fetch and display random images from each dataset section\n",
    "train_image = show_random_image(train_path)\n",
    "print(f\"random train image: {train_image}\")\n",
    "\n",
    "val_image = show_random_image(val_path)\n",
    "print(f\"random validation image: {val_image}\")\n",
    "\n",
    "test_image = show_random_image(test_path)\n",
    "print(f\"random test image: {test_image}\")\n"
   ]
  },
  {
   "cell_type": "markdown",
   "id": "1eb9dea4",
   "metadata": {},
   "source": [
    "## Create an \"outputs\" Directory\n",
    "\n",
    "We now need a place to store any new files that we'll be creating.\n",
    "\n",
    "The cell below will check to see if \"outputs\" already exists. If not, it will create one and set a file path to it."
   ]
  },
  {
   "cell_type": "code",
   "execution_count": null,
   "id": "732d4937",
   "metadata": {},
   "outputs": [],
   "source": [
    "from pathlib import Path\n",
    "\n",
    "# Define the root directory\n",
    "root_dir = Path.cwd()  # Get current working directory\n",
    "version = \"v1\"\n",
    "\n",
    "# Construct the relative path for outputs\n",
    "file_path = Path(\"outputs\") / version\n",
    "\n",
    "# Check if the directory for this version already exists\n",
    "if file_path.exists():\n",
    "    print(f'Old version \"{version}\" already exists.')\n",
    "    print(f'Create a new version if required. If not, you are good to go!')\n",
    "else:\n",
    "    try:\n",
    "        # Create the directory if it doesn't exist\n",
    "        file_path.mkdir(parents=True, exist_ok=True)\n",
    "        print(f'Created new directory: {file_path}')\n",
    "    except OSError as e:\n",
    "        print(f'Error creating directory: {e}')\n"
   ]
  },
  {
   "cell_type": "markdown",
   "id": "2b9abb59",
   "metadata": {},
   "source": [
    "## Set the Label Names\n",
    "\n",
    "Our upcoming binary classification task will require labelled data in order to train. Here we will set the labels to be used in our project:\n",
    "\n",
    "- 'healthy'\n",
    "- 'powdery_mildew'"
   ]
  },
  {
   "cell_type": "code",
   "execution_count": null,
   "id": "fb4ac103",
   "metadata": {},
   "outputs": [],
   "source": [
    "# Set the labels\n",
    "labels = os.listdir(train_path)\n",
    "print('The labels for the images are', labels)\n"
   ]
  },
  {
   "cell_type": "markdown",
   "id": "1ee903a2",
   "metadata": {},
   "source": [
    "## Data Visualization\n",
    "\n",
    "Now that the folders are set up and the file paths established, we can turn our attention to generating data visualizations!\n",
    "\n",
    "We're now starting to focus on meeting business requirement 1: \n",
    "\n",
    "- 'The client is interested in conducting a study to visually differentiate a healthy cherry leaf from one with powdery mildew.'"
   ]
  },
  {
   "cell_type": "markdown",
   "id": "248afd9a",
   "metadata": {},
   "source": [
    "### Image Shape\n",
    "\n",
    "We need to understand the average size of the images in our data set. This is called the image shape.\n",
    "\n",
    "The next cell will compute the average image size on train set. This code:\n",
    "\n",
    "- Calculates the average height and width of each image\n",
    "- Plots the dimensions of each image on a scatter plot\n",
    "- Counts the number of images processed\n",
    "\n",
    "Credit Code Institute's WalkthroughProject01 for calculation code.\n"
   ]
  },
  {
   "cell_type": "code",
   "execution_count": null,
   "id": "6326a9a0",
   "metadata": {},
   "outputs": [],
   "source": [
    "from pathlib import Path\n",
    "\n",
    "# Lists to store image dimensions\n",
    "dim1, dim2 = [], []\n",
    "# Initialize a counter for the number of images processed\n",
    "image_count = 0\n",
    "\n",
    "# Iterate through each label (subdirectories in the training set)\n",
    "for label in labels:\n",
    "    # Construct label folder path\n",
    "    label_path = Path(train_path) / label\n",
    "\n",
    "    # Iterate through each image file within the label's directory\n",
    "    for image_file in label_path.iterdir():\n",
    "        # Ensure only image files\n",
    "        if image_file.suffix.lower() in {'.png', '.jpg', '.jpeg'}:\n",
    "            # Read the image using PIL\n",
    "            img = Image.open(image_file)\n",
    "            d1, d2 = img.size  # PIL returns (width, height)\n",
    "\n",
    "            # Append the extracted dimensions to their respective lists\n",
    "            dim1.append(d2)  # Store image height\n",
    "            dim2.append(d1)  # Store image width\n",
    "\n",
    "            # Increment the counter to track the number of images processed\n",
    "            image_count += 1\n",
    "\n",
    "# Set Seaborn style for better aesthetics\n",
    "sns.set_style(\"whitegrid\")\n",
    "\n",
    "# Create a figure and an axis for the plot\n",
    "fig, axes = plt.subplots()\n",
    "\n",
    "# Scatter plot to visualize width vs height of images with semi-transparency\n",
    "sns.scatterplot(x=dim2, y=dim1, alpha=0.2)\n",
    "\n",
    "# Label the axes\n",
    "axes.set_xlabel(\"Width (pixels)\")\n",
    "axes.set_ylabel(\"Height (pixels)\")\n",
    "\n",
    "# Compute the mean (average) image dimensions\n",
    "dim1_mean = int(np.mean(dim1))  # Average height\n",
    "dim2_mean = int(np.mean(dim2))  # Average width\n",
    "\n",
    "# Add dashed reference lines to indicate average dimensions\n",
    "axes.axvline(x=dim1_mean, color='r', linestyle='--')\n",
    "axes.axhline(y=dim2_mean, color='r', linestyle='--')\n",
    "\n",
    "# Display the scatter plot\n",
    "plt.show()\n",
    "\n",
    "# Print out the total number of images analyzed and the average dimensions\n",
    "print(f\"Total images processed: {image_count}\")\n",
    "print(f\"Width average: {dim2_mean} \\nHeight average: {dim1_mean}\")\n"
   ]
  },
  {
   "cell_type": "markdown",
   "id": "269b7501",
   "metadata": {},
   "source": [
    "For training purposes, we should define the image shape as the average widths and heights of all the images in the train set, along with the colour channels. The images in this set are all the same size (as seen from the plot above), but it is good practice to calculate the mean of each nevertheless.\n"
   ]
  },
  {
   "cell_type": "code",
   "execution_count": null,
   "id": "694152f4",
   "metadata": {},
   "outputs": [],
   "source": [
    "# Define the image shape in terms of height, width and colour\n",
    "image_shape = (dim1_mean, dim2_mean, 3)\n",
    "image_shape\n"
   ]
  },
  {
   "cell_type": "markdown",
   "id": "d16c533b",
   "metadata": {},
   "source": [
    "Now we save the image shape embeddings in the 'outputs' folder for later use."
   ]
  },
  {
   "cell_type": "code",
   "execution_count": null,
   "id": "9badc371",
   "metadata": {},
   "outputs": [],
   "source": [
    "joblib.dump(value=image_shape,\n",
    "            filename=f\"{file_path}/image_shape.pkl\")\n",
    "\n",
    "print(f\"['{file_path}']\")\n"
   ]
  },
  {
   "cell_type": "markdown",
   "id": "8c0a074c",
   "metadata": {},
   "source": [
    "Finally we'll confirm that the image shape stored in the .pkl file matches the image shape calculated above."
   ]
  },
  {
   "cell_type": "code",
   "execution_count": null,
   "id": "397067d6",
   "metadata": {},
   "outputs": [],
   "source": [
    "image_shape = joblib.load(f\"{file_path}/image_shape.pkl\")\n",
    "print(f\"Expected height: {dim1_mean} | Expected width: {dim2_mean}\")  \n",
    "print(f\"Saved image shape: {image_shape}\")  # Should match expected dimensions\n"
   ]
  },
  {
   "cell_type": "markdown",
   "id": "c09188bb",
   "metadata": {},
   "source": [
    "### Average and variability of images per label\n",
    "\n",
    "Now we want to study the average variability of images labelled 'healthy' and 'powedery_mildew' to meet the first part of business requirement 1. Let's break it down.\n"
   ]
  },
  {
   "cell_type": "markdown",
   "id": "d3a24124",
   "metadata": {},
   "source": [
    "#### Function to load images in an array (tensor)"
   ]
  },
  {
   "cell_type": "code",
   "execution_count": null,
   "id": "b0b5c450",
   "metadata": {},
   "outputs": [],
   "source": [
    "\n",
    "def load_image_as_array(\n",
    "    my_data_dir, image_shape_pkl=None, n_images_per_label=20\n",
    "):\n",
    "    \"\"\"\n",
    "    Loads image data from a directory, normalizes pixel values, and\n",
    "    organizes them for studying variability across labels.\n",
    "\n",
    "    Parameters:\n",
    "        my_data_dir (str or Path): Directory containing labeled subfolders.\n",
    "        image_shape_pkl (str or Path): Pickle file with the desired image\n",
    "            shape (optional).\n",
    "        n_images_per_label (int): Max images to load per label (default 20).\n",
    "\n",
    "    Returns:\n",
    "        X (numpy.ndarray): Array of processed image data.\n",
    "        y (numpy.ndarray): Array of numeric labels.\n",
    "    \"\"\"\n",
    "\n",
    "    my_data_dir = Path(my_data_dir)  # Ensure Path object\n",
    "    X, y = [], []  # Lists to store image arrays & labels\n",
    "\n",
    "    labels = sorted(\n",
    "        [label.name for label in my_data_dir.iterdir() if label.is_dir()]\n",
    "    )  # Extract directory names\n",
    "\n",
    "    # Create a mapping from label names to numeric indices\n",
    "    label_map = {\"healthy\": 0, \"powdery_mildew\": 1}\n",
    "\n",
    "    image_shape = None  # Default image shape\n",
    "    if image_shape_pkl:\n",
    "        try:\n",
    "            image_shape = joblib.load(image_shape_pkl)  # Load shape from .pkl\n",
    "            print(f\"Loaded shape from pickle: {image_shape}\")\n",
    "        except Exception as e:\n",
    "            print(f\"Error loading pickle: {e}\")\n",
    "\n",
    "    for label in labels:\n",
    "        counter = 0  # Track number of images processed per label\n",
    "        label_path = my_data_dir / label  # Construct path to label directory\n",
    "\n",
    "        # Ensure label path exists before proceeding\n",
    "        if not label_path.exists():\n",
    "            print(f\"Label path missing: {label_path}\")\n",
    "            continue\n",
    "\n",
    "        # Iterate through image files within the label directory\n",
    "        for image_file in label_path.iterdir():\n",
    "            if counter >= n_images_per_label:\n",
    "                break  # Stop collecting images once the limit is reached\n",
    "\n",
    "            if image_file.suffix.lower() in {'.png', '.jpg', '.jpeg'}:\n",
    "                try:\n",
    "                    # Load image while keeping original dimensions unless\n",
    "                    # resizing is needed\n",
    "                    img = image.load_img(\n",
    "                        image_file,\n",
    "                        target_size=image_shape[:2] if image_shape else None\n",
    "                    )\n",
    "                    # Normalize pixel values\n",
    "                    img_array = image.img_to_array(img) / 255.0\n",
    "\n",
    "                    X.append(img_array)  # Store processed image data\n",
    "                    y.append(label_map[label])  # Assign label index\n",
    "\n",
    "                    counter += 1  # Increment counter for current label\n",
    "                except Exception:\n",
    "                    print(f\"Skipping problematic file: {image_file}\")\n",
    "\n",
    "    # Convert lists to NumPy arrays for statistical analysis\n",
    "    X, y = np.array(X), np.array(y)\n",
    "\n",
    "    # Shuffle dataset to avoid unintended biases in variability calculations\n",
    "    combined = list(zip(X, y))\n",
    "    random.shuffle(combined)\n",
    "    X, y = zip(*combined)\n",
    "\n",
    "    X, y = np.array(X), np.array(y)\n",
    "\n",
    "    # Print dataset shape for reference when analyzing image variability\n",
    "    print(f\"Final shape: X={X.shape}, y={y.shape}\")\n",
    "\n",
    "    return X, y\n"
   ]
  },
  {
   "cell_type": "markdown",
   "id": "bfc4c827",
   "metadata": {},
   "source": [
    "#### Load image shapes and labels in an array\n",
    "\n",
    "This called function will return equal numbers of images for each label as a sample. To adjust the sample size, update the n_images_per_label value and run the cell."
   ]
  },
  {
   "cell_type": "code",
   "execution_count": null,
   "id": "e4e9f352",
   "metadata": {},
   "outputs": [],
   "source": [
    "X, y = load_image_as_array(my_data_dir=train_path,\n",
    "                           image_shape_pkl=f\"{file_path}/image_shape.pkl\",\n",
    "                           n_images_per_label=30)\n"
   ]
  },
  {
   "cell_type": "markdown",
   "id": "b341250d",
   "metadata": {},
   "source": [
    "#### Plot and save the mean and variability of images per label\n",
    "\n",
    "Now we'll create some images to show the average of and variability between healthy and mildewed leaves."
   ]
  },
  {
   "cell_type": "code",
   "execution_count": null,
   "id": "507dfa56",
   "metadata": {},
   "outputs": [],
   "source": [
    "\n",
    "def plot_mean_variability_per_labels(\n",
    "    X, y, labels, figsize=(12, 5), save_image=False, file_path=None\n",
    "):\n",
    "    \"\"\"\n",
    "    Plots mean and variability of images for each label using dynamic\n",
    "    label mapping.\n",
    "\n",
    "    Parameters:\n",
    "        X (numpy.ndarray): Array of image data.\n",
    "        y (numpy.ndarray): Array of labels.\n",
    "        labels (list): Label names corresponding to directory names.\n",
    "        figsize (tuple): Size of the figure (default: (12, 5)).\n",
    "        save_image (bool): Whether to save the plot (default: False).\n",
    "        file_path (str or Path): Directory path for saving images, required\n",
    "            if save_image=True.\n",
    "\n",
    "    Returns:\n",
    "        None: Displays or saves plots of average & variability images.\n",
    "    \"\"\"\n",
    "\n",
    "    # Ensure file_path is provided if save_image is True\n",
    "    if save_image:\n",
    "        if file_path is None:\n",
    "            raise ValueError(\"Please provide a valid file path for saving.\")\n",
    "        file_path = Path(file_path)  # Ensure file_path is a Path object\n",
    "        file_path.mkdir(parents=True, exist_ok=True)  # Create directory\n",
    "\n",
    "    # Create mappings between numeric labels & directory names\n",
    "    label_map = {label: idx for idx, label in enumerate(labels)}\n",
    "    reverse_label_map = {idx: label for label, idx in label_map.items()}\n",
    "\n",
    "    unique_labels = np.unique(y)  # Get unique numeric labels\n",
    "    y = y.reshape(-1, 1)  # Reshape labels for masking consistency\n",
    "\n",
    "    for label_to_display in unique_labels:\n",
    "        sns.set_style(\"white\")  # Apply styling\n",
    "\n",
    "        # Get label name dynamically\n",
    "        label_name = reverse_label_map[label_to_display]\n",
    "\n",
    "        # Filter images corresponding to the label\n",
    "        boolean_mask = (y == label_to_display).reshape(-1)\n",
    "        arr = X[boolean_mask]\n",
    "\n",
    "        if arr.size == 0:\n",
    "            print(f\"No images found for '{label_name}', skipping...\")\n",
    "            continue\n",
    "\n",
    "        # Compute the mean & standard deviation images\n",
    "        avg_img = np.mean(arr, axis=0)\n",
    "        std_img = np.std(arr, axis=0)\n",
    "\n",
    "        # Print label details\n",
    "        print(f\"Label '{label_name}': Image Shape = {avg_img.shape}\")\n",
    "\n",
    "        # Create a figure with two subplots\n",
    "        fig, axes = plt.subplots(1, 2, figsize=figsize)\n",
    "        axes[0].set_title(f\"Avg Image - '{label_name}'\")\n",
    "        axes[0].imshow(avg_img)\n",
    "\n",
    "        axes[1].set_title(f\"Variability Image - '{label_name}'\")\n",
    "        axes[1].imshow(std_img)\n",
    "\n",
    "        # Save or show the plot - save_image is False by default\n",
    "        if save_image:\n",
    "            save_path = file_path / f\"avg_var_{label_name}.png\"\n",
    "            plt.savefig(save_path, bbox_inches='tight', dpi=150)\n",
    "            print(f\"Saved plot at: {save_path}\")\n",
    "        else:\n",
    "            plt.tight_layout()\n",
    "            plt.show()\n",
    "\n",
    "        print(\"\\n\")\n"
   ]
  },
  {
   "cell_type": "markdown",
   "id": "d91d8da3",
   "metadata": {},
   "source": [
    "Call the function to see and save the plots..."
   ]
  },
  {
   "cell_type": "code",
   "execution_count": null,
   "id": "507d8917",
   "metadata": {},
   "outputs": [],
   "source": [
    "plot_mean_variability_per_labels(\n",
    "    X=X, y=y, labels=labels, figsize=(12, 5),\n",
    "    save_image=True, file_path=file_path\n",
    ")\n"
   ]
  },
  {
   "cell_type": "markdown",
   "id": "89e32aef",
   "metadata": {},
   "source": [
    "Excellent! Now we have satisfied the first part of business requirement 1! Let's move on to the next part."
   ]
  },
  {
   "cell_type": "markdown",
   "id": "1267d05f",
   "metadata": {},
   "source": [
    "### Difference between average parasite-contained and average uninfected cell images\n",
    "\n",
    "We will now create a function to study the difference between average healthy leaves and average mildewed leaves. This will help us to satisfy the second part of business objective 1.\n",
    "\n",
    "First, we need a function to extract the images for each label and put them into an array...\n"
   ]
  },
  {
   "cell_type": "code",
   "execution_count": null,
   "id": "f4bf382d",
   "metadata": {},
   "outputs": [],
   "source": [
    "def subset_image_label(X, y, label_to_display):\n",
    "    \"\"\"\n",
    "    Extracts images corresponding to a specific label and returns NumPy array.\n",
    "\n",
    "    Parameters:\n",
    "    - X: NumPy array containing image data\n",
    "    - y: NumPy array containing labels corresponding to images\n",
    "    - label_to_display: The target label (integer) to filter images\n",
    "\n",
    "    Returns:\n",
    "    - NumPy array of images that match the given label\n",
    "    \"\"\"\n",
    "    # Ensure proper shape for comparison\n",
    "    y = y.reshape(-1, 1, 1)\n",
    "    # Create a boolean mask to select images that match the given label\n",
    "    boolean_mask = np.any(y == label_to_display, axis=1).reshape(-1)\n",
    "    # Filter images based on label\n",
    "    return X[boolean_mask]\n"
   ]
  },
  {
   "cell_type": "markdown",
   "id": "7fcecfd2",
   "metadata": {},
   "source": [
    "... then a function to compare the average images in that array."
   ]
  },
  {
   "cell_type": "code",
   "execution_count": null,
   "id": "d5045831",
   "metadata": {},
   "outputs": [],
   "source": [
    "def diff_bet_avg_image_labels_data_as_array(\n",
    "    X, y, labels, figsize=(20, 5), save_image=False, file_path=None\n",
    "):\n",
    "    \"\"\"\n",
    "    Compares average images between labels ('healthy' and 'powdery_mildew')\n",
    "    and visualizes their differences.\n",
    "\n",
    "    Parameters:\n",
    "        X (numpy.ndarray): Array of image data.\n",
    "        y (numpy.ndarray): Array of labels.\n",
    "        labels (list): Label names retrieved from earlier cell.\n",
    "        figsize (tuple): Figure size for visualization (default: (20, 5)).\n",
    "        save_image (bool): Whether to save the plot (default: False).\n",
    "        file_path (str or Path): Directory path for saving (if required).\n",
    "\n",
    "    Outputs:\n",
    "        - Displays the average images for both labels and their difference.\n",
    "        - Saves the visualization to a file if `save_image=True`.\n",
    "    \"\"\"\n",
    "\n",
    "    sns.set_style(\"white\")  # Set visual styling for plots\n",
    "\n",
    "    # Ensure at least two labels exist for comparison\n",
    "    if len(labels) < 2:\n",
    "        print(\"Error: Not enough labels in dataset to compare.\")\n",
    "        return\n",
    "\n",
    "    # Select first two labels dynamically from the label variable defined\n",
    "    # near the top of the notebook\n",
    "    label_1, label_2 = labels[:2]\n",
    "\n",
    "    # Create mapping from label names to numerical indices\n",
    "    label_mapping = {label: i for i, label in enumerate(labels)}\n",
    "\n",
    "    # Convert label names to numerical indices\n",
    "    label_1_num, label_2_num = label_mapping[label_1], label_mapping[label_2]\n",
    "\n",
    "    # Validate that requested labels exist in the dataset\n",
    "    unique_labels = np.unique(y)\n",
    "    if label_1_num not in unique_labels or label_2_num not in unique_labels:\n",
    "        print(\n",
    "            f\"Error: Either '{\n",
    "                label_1}' or '{label_2}' not in {unique_labels}\"\n",
    "        )\n",
    "        return\n",
    "\n",
    "    # Compute average pixel values for images belonging to each label\n",
    "    label1_avg = np.mean(subset_image_label(X, y, label_1_num), axis=0)\n",
    "    label2_avg = np.mean(subset_image_label(X, y, label_2_num), axis=0)\n",
    "    # Compute pixel-wise difference\n",
    "    difference_mean = label1_avg - label2_avg\n",
    "\n",
    "    # Create a figure with three subplots for visualization\n",
    "    fig, axes = plt.subplots(nrows=1, ncols=3, figsize=figsize)\n",
    "    titles = [\n",
    "        f\"Avg '{label_1}'\",  # First label's average image\n",
    "        f\"Avg '{label_2}'\",  # Second label's average image\n",
    "        f\"Difference: '{label_1}' - '{label_2}'\",  # Difference between images\n",
    "    ]\n",
    "    images = [label1_avg, label2_avg, difference_mean]\n",
    "\n",
    "    # Loop through subplots to display images with appropriate titles\n",
    "    for ax, img, title in zip(axes, images, titles):\n",
    "        ax.imshow(img)  # Display images\n",
    "        ax.set_title(title)  # Set title for each subplot\n",
    "        ax.axis(\"off\")  # Hide axis labels for cleaner look\n",
    "\n",
    "    # Save the plot or display it\n",
    "    if save_image:\n",
    "        if file_path is None:\n",
    "            raise ValueError(\"Please provide a valid file path for saving.\")\n",
    "        file_path = Path(file_path)  # Ensure file_path is a Path object\n",
    "        file_path.mkdir(parents=True, exist_ok=True)\n",
    "        save_path = file_path / f\"avg_diff_{label_1}_{label_2}.png\"\n",
    "        plt.savefig(save_path, bbox_inches=\"tight\", dpi=150)\n",
    "        print(f\"Saved plot at: {save_path}\")\n",
    "    else:\n",
    "        plt.tight_layout()\n",
    "        plt.show()\n"
   ]
  },
  {
   "cell_type": "markdown",
   "id": "4b4ecc43",
   "metadata": {},
   "source": [
    "Now call the above function."
   ]
  },
  {
   "cell_type": "code",
   "execution_count": null,
   "id": "e6e50735",
   "metadata": {},
   "outputs": [],
   "source": [
    "diff_bet_avg_image_labels_data_as_array(X=X, y=y,\n",
    "                                        labels=labels,\n",
    "                                        figsize=(12, 10),\n",
    "                                        save_image=True,\n",
    "                                        file_path=file_path\n",
    "                                        )\n"
   ]
  },
  {
   "cell_type": "markdown",
   "id": "4067a6c2",
   "metadata": {},
   "source": [
    "Good! We have now tackled the second part of business requirement 1! Let's push on to the final step of data visualization, the image montage!\n"
   ]
  },
  {
   "cell_type": "markdown",
   "id": "881b78e3",
   "metadata": {},
   "source": [
    "### Image montage\n",
    "\n",
    "OK, now we need to create an image montage to satisfy the last element of the customer's business requirement 1. Let's create another function for that."
   ]
  },
  {
   "cell_type": "code",
   "execution_count": null,
   "id": "0cb29f4c",
   "metadata": {},
   "outputs": [],
   "source": [
    "\n",
    "def create_image_montage(\n",
    "    images, labels=None, labels_list=None, rows=3, cols=3,\n",
    "    figsize=(10, 10), save_image=False, file_path=None\n",
    "):\n",
    "    \"\"\"\n",
    "    Creates a montage displaying a grid of images for easy comparison.\n",
    "\n",
    "    Parameters:\n",
    "        images (numpy.ndarray): Array containing image data.\n",
    "        labels (numpy.ndarray): Array of numerical labels (optional).\n",
    "        labels_list (list): Maps numerical labels to class names (optional).\n",
    "        rows (int): Number of rows in the montage (default: 3).\n",
    "        cols (int): Number of columns in the montage (default: 3).\n",
    "        figsize (tuple): Figure size for visualization (default: (10, 10)).\n",
    "        cmap (str): Color map for displaying images (default: 'gray').\n",
    "        save_image (bool): Whether to save the montage (default: False).\n",
    "        file_path (str or Path): Save path, required if `save_image=True`.\n",
    "\n",
    "    Outputs:\n",
    "        - Displays an image montage with optional class names as titles.\n",
    "        - Saves the montage as a file if `save_image=True`.\n",
    "    \"\"\"\n",
    "\n",
    "    num_images = len(images)  # Get total number of images\n",
    "    montage_size = rows * cols  # Compute total images to display\n",
    "\n",
    "    # Ensure images to dispaly do not exceed available images\n",
    "    selected_images = images[:montage_size]\n",
    "    if labels is not None:\n",
    "        selected_labels = labels[:montage_size]\n",
    "\n",
    "    # Create a figure with grid layout\n",
    "    fig, axes = plt.subplots(rows, cols, figsize=figsize)\n",
    "    axes = axes.flatten()  # Flatten for easy iteration\n",
    "\n",
    "    # Loop through each subplot\n",
    "    for i, ax in enumerate(axes):\n",
    "        if i < num_images:\n",
    "            img = selected_images[i]  # Get image to display\n",
    "            ax.imshow(img)  # Display the image\n",
    "            ax.axis(\"off\")  # Hide axis labels for cleaner visualization\n",
    "\n",
    "            # If labels exist, display corresponding class names\n",
    "            if labels is not None and labels_list is not None:\n",
    "                label_index = selected_labels[i]\n",
    "                ax.set_title(f\"'{labels_list[label_index]}'\", fontsize=10)\n",
    "\n",
    "    plt.tight_layout()  # Adjust spacing between images\n",
    "\n",
    "    # Save or display the montage - save_image is False by default\n",
    "    if save_image:\n",
    "        if file_path is None:\n",
    "            raise ValueError(\"Provide a valid file path for saving.\")\n",
    "\n",
    "        file_path = Path(file_path) if isinstance(file_path, Path) \\\n",
    "            else Path(file_path)\n",
    "\n",
    "        if not file_path.exists():\n",
    "            # Make a directory if required\n",
    "            file_path.mkdir(parents=True, exist_ok=True)\n",
    "\n",
    "        save_path = file_path / \"image_montage.png\"\n",
    "        plt.savefig(save_path, bbox_inches=\"tight\", dpi=150)\n",
    "        print(f\"Saved montage at: {save_path}\")\n",
    "    else:\n",
    "        plt.show()  # Display the montage\n"
   ]
  },
  {
   "cell_type": "markdown",
   "id": "ac45c45d",
   "metadata": {},
   "source": [
    "Call the function..."
   ]
  },
  {
   "cell_type": "code",
   "execution_count": null,
   "id": "6d70f661",
   "metadata": {},
   "outputs": [],
   "source": [
    "create_image_montage(images=X, labels=y, labels_list=labels, rows=3, cols=3)"
   ]
  },
  {
   "cell_type": "markdown",
   "id": "b225b14e",
   "metadata": {},
   "source": [
    "Done! Business requirement 1 is now fully satisfied!"
   ]
  },
  {
   "cell_type": "markdown",
   "id": "b3c3dccb",
   "metadata": {},
   "source": [
    "## Summary\n",
    "\n",
    "Well that was a lot of good work for business requirement 1! In this notebook we:\n",
    "\n",
    "- Set our downloaded image directories as the source of our data\n",
    "- Set and then checked that we had defined the right file paths for accessing the image data\n",
    "- Set up an 'output' directory for our upcoming files\n",
    "- Set the labels for our images as either 'healthy' or 'powdery_mildew'\n",
    "- Calculated the average image shape (dimensions) and saved that shape in a .pkl file for later use\n",
    "- Studied the average variability of images for each label\n",
    "- Studied the difference between average 'healthy' images and 'powderdy_mildew' images\n",
    "- Created an image montage\n",
    "\n",
    "Well done! Take a breather and when you're ready, let’s move on to the next notebook where we will develop, fit and evaluate a training model!\n"
   ]
  }
 ],
 "metadata": {
  "kernelspec": {
   "display_name": ".venv",
   "language": "python",
   "name": "python3"
  },
  "language_info": {
   "codemirror_mode": {
    "name": "ipython",
    "version": 3
   },
   "file_extension": ".py",
   "mimetype": "text/x-python",
   "name": "python",
   "nbconvert_exporter": "python",
   "pygments_lexer": "ipython3",
   "version": "3.12.5"
  }
 },
 "nbformat": 4,
 "nbformat_minor": 5
}
